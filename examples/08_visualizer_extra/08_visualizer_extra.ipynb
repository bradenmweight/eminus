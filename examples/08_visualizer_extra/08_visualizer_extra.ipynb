{
 "cells": [
  {
   "cell_type": "markdown",
   "id": "aa90814d",
   "metadata": {},
   "source": [
    "# Visualization"
   ]
  },
  {
   "cell_type": "code",
   "execution_count": 1,
   "id": "13b6fb7e",
   "metadata": {},
   "outputs": [],
   "source": [
    "from eminus import Atoms, read_xyz, SCF, write_cube, write_xyz\n",
    "from eminus.extras import get_fods, view_grid, view_mol;"
   ]
  },
  {
   "cell_type": "code",
   "execution_count": 2,
   "id": "4aa79c38",
   "metadata": {},
   "outputs": [
    {
     "data": {
      "application/vnd.jupyter.widget-view+json": {
       "model_id": "5e3c920d6cda418ca2a048fbbff23629",
       "version_major": 2,
       "version_minor": 0
      },
      "text/plain": []
     },
     "metadata": {},
     "output_type": "display_data"
    },
    {
     "data": {
      "application/vnd.jupyter.widget-view+json": {
       "model_id": "8b4cd71ca0d5420f8d444eb5efc6309f",
       "version_major": 2,
       "version_minor": 0
      },
      "text/plain": [
       "NGLWidget()"
      ]
     },
     "metadata": {},
     "output_type": "display_data"
    }
   ],
   "source": [
    "# View the initial xyz file\n",
    "mol = view_mol('CH4.xyz')\n",
    "mol"
   ]
  },
  {
   "cell_type": "code",
   "execution_count": 3,
   "id": "64b432af",
   "metadata": {},
   "outputs": [
    {
     "data": {
      "application/vnd.jupyter.widget-view+json": {
       "model_id": "85fae796ede046528d1c8522c7d21e45",
       "version_major": 2,
       "version_minor": 0
      },
      "text/plain": [
       "Image(value=b'', width='400px')"
      ]
     },
     "metadata": {},
     "output_type": "display_data"
    }
   ],
   "source": [
    "# Render the view as an image, e.g., to download it\n",
    "# See the options here: https://nglviewer.org/nglview/latest/api.html#nglview.NGLWidget.render_image\n",
    "mol_img = mol.render_image()\n",
    "mol_img.width = '400px'\n",
    "mol_img"
   ]
  },
  {
   "cell_type": "code",
   "execution_count": 4,
   "id": "df9c9c4c",
   "metadata": {},
   "outputs": [],
   "source": [
    "# Create the Atoms object\n",
    "atoms = Atoms(*read_xyz('CH4.xyz'), s=50, center=True)"
   ]
  },
  {
   "cell_type": "code",
   "execution_count": 5,
   "id": "ddcc7001",
   "metadata": {},
   "outputs": [],
   "source": [
    "# The calculations and writing steps have already been done, uncomment them if you want to do them for yourself\n",
    "\n",
    "# Do the DFT calculation\n",
    "# scf = SCF(atoms)\n",
    "# scf.run();\n",
    "\n",
    "# Calculate FODs and write them to a xyz file\n",
    "# fods = get_fods(atoms)\n",
    "# write_xyz(atoms, 'CH4_fods.xyz', fods);\n",
    "\n",
    "# Write the density to a cube file\n",
    "# write_cube(scf, scf.n, 'CH4_density.cube');"
   ]
  },
  {
   "cell_type": "code",
   "execution_count": 6,
   "id": "8b5f21fd",
   "metadata": {},
   "outputs": [
    {
     "data": {
      "application/vnd.jupyter.widget-view+json": {
       "model_id": "2db50239f04d42109671b5d79614ce1d",
       "version_major": 2,
       "version_minor": 0
      },
      "text/plain": [
       "ThemeManager()"
      ]
     },
     "metadata": {},
     "output_type": "display_data"
    },
    {
     "data": {
      "application/vnd.jupyter.widget-view+json": {
       "model_id": "2c91cc97b6e84f2394e9aa6651364ecf",
       "version_major": 2,
       "version_minor": 0
      },
      "text/plain": [
       "NGLWidget(gui_style='ngl')"
      ]
     },
     "metadata": {},
     "output_type": "display_data"
    }
   ],
   "source": [
    "# View molecule with FODs with the GUI enabled\n",
    "fods = view_mol('CH4_fods.xyz', gui=True)\n",
    "fods"
   ]
  },
  {
   "cell_type": "code",
   "execution_count": 7,
   "id": "980e5726",
   "metadata": {},
   "outputs": [
    {
     "data": {
      "application/vnd.jupyter.widget-view+json": {
       "model_id": "8067f5ee9b99401d91e1cddc4c439a38",
       "version_major": 2,
       "version_minor": 0
      },
      "text/plain": [
       "NGLWidget()"
      ]
     },
     "metadata": {},
     "output_type": "display_data"
    }
   ],
   "source": [
    "# Display the cube file\n",
    "cube = view_mol('CH4_density.cube')\n",
    "cube"
   ]
  },
  {
   "cell_type": "code",
   "execution_count": 8,
   "id": "ba70a0a7",
   "metadata": {},
   "outputs": [
    {
     "data": {
      "application/vnd.jupyter.widget-view+json": {
       "model_id": "3b127d5afc144250a34d59c1a6e7b9ad",
       "version_major": 2,
       "version_minor": 0
      },
      "text/plain": [
       "RFBOutputContext()"
      ]
     },
     "metadata": {},
     "output_type": "display_data"
    },
    {
     "data": {
      "text/html": [
       "<div class='initial-snapshot-8be59d1301f3484698a46298da467979' style='position:relative;'><img src='data:image/png;base64,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' style='width:400.0px;height:400.0px;' /><div style='position: absolute; top:0; left:0; padding:1px 3px; background: #777; color:#fff; font-size: 90%; font-family:sans-serif; '>initial snapshot</div></div>"
      ],
      "text/plain": [
       "<jupyter_rfb._utils.Snapshot object>"
      ]
     },
     "metadata": {},
     "output_type": "display_data"
    },
    {
     "data": {
      "application/vnd.jupyter.widget-view+json": {
       "model_id": "8be59d1301f3484698a46298da467979",
       "version_major": 2,
       "version_minor": 0
      },
      "text/plain": [
       "CanvasBackend(css_height='400px', css_width='400px')"
      ]
     },
     "execution_count": 8,
     "metadata": {},
     "output_type": "execute_result"
    }
   ],
   "source": [
    "# Use a smaller grid and display it along with the atom positions\n",
    "atoms.s = [10] * 3\n",
    "atoms.build()\n",
    "view_grid(atoms.r, atoms.X)"
   ]
  }
 ],
 "metadata": {
  "kernelspec": {
   "display_name": "Python 3 (ipykernel)",
   "language": "python",
   "name": "python3"
  },
  "language_info": {
   "codemirror_mode": {
    "name": "ipython",
    "version": 3
   },
   "file_extension": ".py",
   "mimetype": "text/x-python",
   "name": "python",
   "nbconvert_exporter": "python",
   "pygments_lexer": "ipython3",
   "version": "3.10.6"
  }
 },
 "nbformat": 4,
 "nbformat_minor": 5
}
