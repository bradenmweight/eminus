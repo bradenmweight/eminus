{
 "cells": [
  {
   "cell_type": "markdown",
   "id": "32ba3e0d",
   "metadata": {},
   "source": [
    "# Domain generation"
   ]
  },
  {
   "cell_type": "code",
   "execution_count": 1,
   "id": "d74ea383",
   "metadata": {},
   "outputs": [
    {
     "data": {
      "application/vnd.jupyter.widget-view+json": {
       "model_id": "4480aceb72c14e4781f7c374e70a01d4",
       "version_major": 2,
       "version_minor": 0
      },
      "text/plain": []
     },
     "metadata": {},
     "output_type": "display_data"
    }
   ],
   "source": [
    "import timeit\n",
    "\n",
    "from eminus import Atoms, read_xyz, SCF\n",
    "from eminus.addons import view_grid\n",
    "from eminus.domains import domain_cuboid, domain_isovalue, domain_sphere, truncate\n",
    "from eminus.energies import get_Esic, get_n_single\n",
    "from eminus.orbitals import KSO"
   ]
  },
  {
   "cell_type": "code",
   "execution_count": 2,
   "id": "fb7031f3",
   "metadata": {},
   "outputs": [
    {
     "name": "stdout",
     "output_type": "stream",
     "text": [
      "Start preconditioned conjugate-gradient...\n",
      "Iteration: 1  \tEtot: +4.1108768\n",
      "Iteration: 2  \tEtot: +1.5132949\n",
      "Iteration: 3  \tEtot: +0.6833663\n",
      "Iteration: 4  \tEtot: +0.2959934\n",
      "Iteration: 5  \tEtot: +0.0575298\n",
      "Iteration: 6  \tEtot: -0.1399911\n",
      "Iteration: 7  \tEtot: -0.3596758\n",
      "Iteration: 8  \tEtot: -0.5918944\n",
      "Iteration: 9  \tEtot: -0.7308336\n",
      "Iteration: 10  \tEtot: -0.7669721\n",
      "Iteration: 11  \tEtot: -0.7708643\n",
      "Iteration: 12  \tEtot: -0.7717312\n",
      "Iteration: 13  \tEtot: -0.7718528\n",
      "Iteration: 14  \tEtot: -0.7718725\n",
      "Iteration: 15  \tEtot: -0.7718744\n",
      "Iteration: 16  \tEtot: -0.7718748\n",
      "Iteration: 17  \tEtot: -0.7718749\n",
      "SCF converged after 17 iterations.\n",
      "Total SCF time: 0.57576s\n",
      "Total energy: -0.771874907 Eh\n"
     ]
    }
   ],
   "source": [
    "# Start by creating an Atoms object for lithium hydride\n",
    "# Use a small s to make the resulting grid not too dense to display it\n",
    "atoms = Atoms(*read_xyz('LiH.xyz'), s=30, center=True)\n",
    "scf = SCF(atoms)\n",
    "scf.run();"
   ]
  },
  {
   "cell_type": "code",
   "execution_count": 3,
   "id": "8a40ed60",
   "metadata": {},
   "outputs": [
    {
     "data": {
      "application/vnd.jupyter.widget-view+json": {
       "model_id": "0af9dfca66234cc682f4480d0303b8e3",
       "version_major": 2,
       "version_minor": 0
      },
      "text/plain": [
       "RFBOutputContext()"
      ]
     },
     "metadata": {},
     "output_type": "display_data"
    },
    {
     "data": {
      "text/html": [
       "<div class='initial-snapshot-7a99cf5a7ee24fd7b63808928c5eff5a' style='position:relative;'><img src='data:image/png;base64,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' style='width:400.0px;height:400.0px;' /><div style='position: absolute; top:0; left:0; padding:1px 3px; background: #777; color:#fff; font-size: 90%; font-family:sans-serif; '>initial snapshot</div></div>"
      ],
      "text/plain": [
       "<jupyter_rfb._utils.Snapshot object>"
      ]
     },
     "metadata": {},
     "output_type": "display_data"
    },
    {
     "data": {
      "application/vnd.jupyter.widget-view+json": {
       "model_id": "7a99cf5a7ee24fd7b63808928c5eff5a",
       "version_major": 2,
       "version_minor": 0
      },
      "text/plain": [
       "CanvasBackend(css_height='400px', css_width='400px')"
      ]
     },
     "execution_count": 3,
     "metadata": {},
     "output_type": "execute_result"
    }
   ],
   "source": [
    "# Create a boolean mask for a cuboidal domain\n",
    "# This will create a domain with side lengths of 3 Bohr,\n",
    "# with the center in the center at the center of mass of our molecule\n",
    "mask = domain_cuboid(atoms, 3)\n",
    "\n",
    "# Display the domain along with the atom positions\n",
    "# The view_grid function can be used outside of notebooks\n",
    "view_grid(atoms.r[mask], atoms.X)"
   ]
  },
  {
   "cell_type": "code",
   "execution_count": 4,
   "id": "f7cfd13a",
   "metadata": {},
   "outputs": [
    {
     "data": {
      "application/vnd.jupyter.widget-view+json": {
       "model_id": "37ecbaa49a6045efbe51f19e32fcf950",
       "version_major": 2,
       "version_minor": 0
      },
      "text/plain": [
       "RFBOutputContext()"
      ]
     },
     "metadata": {},
     "output_type": "display_data"
    },
    {
     "data": {
      "text/html": [
       "<div class='initial-snapshot-9cf6bd19cad74ef1b110d77d1668aa81' style='position:relative;'><img src='data:image/png;base64,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' style='width:400.0px;height:400.0px;' /><div style='position: absolute; top:0; left:0; padding:1px 3px; background: #777; color:#fff; font-size: 90%; font-family:sans-serif; '>initial snapshot</div></div>"
      ],
      "text/plain": [
       "<jupyter_rfb._utils.Snapshot object>"
      ]
     },
     "metadata": {},
     "output_type": "display_data"
    },
    {
     "data": {
      "application/vnd.jupyter.widget-view+json": {
       "model_id": "9cf6bd19cad74ef1b110d77d1668aa81",
       "version_major": 2,
       "version_minor": 0
      },
      "text/plain": [
       "CanvasBackend(css_height='400px', css_width='400px')"
      ]
     },
     "execution_count": 4,
     "metadata": {},
     "output_type": "execute_result"
    }
   ],
   "source": [
    "# The same can be done for a spherical domain with a radius of 3 Bohr\n",
    "mask = domain_sphere(atoms, 3)\n",
    "view_grid(atoms.r[mask], atoms.X)"
   ]
  },
  {
   "cell_type": "code",
   "execution_count": 5,
   "id": "26a40290",
   "metadata": {},
   "outputs": [
    {
     "data": {
      "application/vnd.jupyter.widget-view+json": {
       "model_id": "81db1a59b0814cebb1ad61ee6dc0b94e",
       "version_major": 2,
       "version_minor": 0
      },
      "text/plain": [
       "RFBOutputContext()"
      ]
     },
     "metadata": {},
     "output_type": "display_data"
    },
    {
     "data": {
      "text/html": [
       "<div class='initial-snapshot-a422087eef034fa98bf245fc2cd99640' style='position:relative;'><img src='data:image/png;base64,iVBORw0KGgoAAAANSUhEUgAAAZAAAAGQCAYAAACAvzbMAAAeOUlEQVR42u3dXYxW1b3H8W2YV+cFGGZgEBgQShWViIBWSI2NLxE1BGtFmvpGQiqmF3guOFAhjYnlxIvT2tOb9uI0p0nTpI1pcnrT5tzNOA4UxFapLwgoYG2rFEStvMxgE87z2+xN96xZ+7EOTP7Pf/xefOL4rGft9VtDsvbsvddaO0mS5CwAAKNgHgAA4JN5AACAT+YBAAA+mQcAAPhkHgAA4JN5AACAT+YBAAA+mQcAAPhkHgAA4JN5AACAT+YBAAA+mQcAAPhkHgAA4JN5AACAT+YBAAA+mQcAAPhkHgAA4JN5AACAT+YBAAA+mQcAAPhkHgAA4JN5AACAT+YBAAA+mQcAAPhkHgAA4JN5AACAT+YBAAA+mQcAAPhkHgAA4JN5AACAT+YBAAA+mQcAAPhkHgAA4JN5AACAT+YBAAA+mQcAAPhkHgAA4JN5AACAT+YBAAA+mQcAAPhkHgAA4JN5AACAT+YBAAA+mQcAAPhkHgAA4JN5AACAT+YBAAA+mQcAAPhkHgAA4JN5AACAT+YBAAA+mQcAAPhkHgAA4JN5AACAT+YBAAA+mQcAAPhkHgAA4JN5AACAT+YBAAA+mQcAAPhkHgAA4JN5AACAT+YBAAA+mQcAAPhkHgAA4JN5AACAT+YBAAA+mQcAAPhkHgAA4JN5AACAT+YBAAA+mQcAAPhkHgAA4JN5AACAT+YBAAA+mQcAAPhkHgAA4JN5AACAT+YBAAA+mQcAAPhkHgAA4JN5AACAT+YBAAA+mQcAAPhkHgAA4JN5AACAT+YBAAA+mQcAAPhkHgAA4JN5AACAT+YBAAA+mQcAAPhkHgAA4JN5AACAT+YBAAA+mQcAAPhkHgAA4JN5AACAT+YBAAA+mQcAAPhkHgAA4JN5AACAT+YBAAA+mQcAAPhkHgAA4JN5AACAT+YBAAA+mQcAAPhkHgAA4JN5AACAT+YBAAA+mQcAAPhkHgAA4JN5AACAT+YBAAA+mQcAAPhkHgAA4JN5AACAT+YBAAA+mQcAAPhkHgAA4JN5AACAT+YBAAA+mQcAAPhkHgAA4JN5AACAT+YBAAA+mQcAAPhkHgAA4JN5AACAT+YBAAA+mQcAAPhkHgAA4JN5AACAT+YBAAA+mQcAAPhkHgAA4JN5AACAT+YBAAA+mQcAAPhkHgAA4JN5AACAT+YBAAA+mQcAAPhkHgAA4JN5AACAT+YBAAA+mQcAAPhkHgAA4JN5AMDEhIYJQ3UNdYNl5ZUylQ9VKR/UMaz7ARgyDwCMifqm+tOXTr70+IT6CWfCsoZLG04uuW/J9mWPLOtvbm/+MCxvbG38+IZv3PC86OewXHVUV8fQscJytam2lcH69wCMIfMAwEWnAXzh3Qt3rv3p2h0zFs54Iyxv7Wo9uv7Z9bs39m7c2zGr489h+cTpE9/d8JsNe0Q/h+Wqo7o6ho4VlqtNta0MsRMYME6YBwAuOt16Wr52ef/W3VsPzVs+7+XwVpRuPc28dubeOUvnvBK7SqhrrBvsWdzzmujnsFx1VFfHCG9jqS21qbaVodptMMA58wDAmNAtpK55XYd0iym8CtCg3ja17UjnnM63Y89BVHfyzMl/Ef0clquO6uoYI05OlbbUptqO1QXGEfMAwJhIn0NMuvQDXS1EryKa60+pvPPyzsPhCaaxpfFEU1vT30U/h8dVnfTYlWOEx1Vb6fOXSjm3rzDOmQcAxkxlAC+9fdTS0fK+rh7ap7YfCcv0uQZ/id2CUh19rmOMpm1gnDAPAADwyTwAMCayW0mnYmW69TT3S3P3zFo06/XYWg7Vnb109qsSu/2lOqqrY8RuY6VtVNqO1QXGEfMAwKjoQXVHT8c7ek4xoqy54eTSNUsHbtlwS1/LlJG3mabMnvKnTc9v2vfoLx99obWz9VhYnk7j/e2GPRKbxqs6qqtj6FhhudpU28qgLGG5Mit7bA0J4Ih5AGBUrvjKFb/fPLB5/3X3XrcjfFit2U8P/+Th7Zu3bz7QObfzcFi3eWLzhzc+dGP/onsW7YgN8Fo8qMFfYgsJVUd1dQwdKyxXm2pbGcKZWMqqzMquPlj/HoELYB4AGJW5N87d89ivHnvx6hVX76pcEQxbzKdBetoXp72l20yxWVj5w/H0v5HbTGlZw4ShbLuT6C2u4jHCMrWptpUhLFdWZVZ29cH69whcAPMAwKhooNYqcD2DiD3r0O0hDdYa5MOrBA3quo2kW03t3e3vhYN8pe4JTcMV/RzWVR3V1THCumpLbart2C0qZVVmZecZCZwzDwCMWn6lEbsNlV0dDE26bNJfK4P9iOcc2T5ZQzoJhKvRm9ubP9KzDdHPxTJ9NztxDMUWCqottany2NWLssauTACHzAMAY0aDfezkIrpS0CLBCXUjB3IN/OmVgmZSRU4CqqO6secfojbZSBGfA+YBABO6sig7uYgensceoOdUN7w6AT5nzAMAo1LXWHe6oWX484mcnjH0XNfz2tT5Uw/Gyjtmdbxz/w/u71/20LL+2PMTPfu484k7e0U/jzh+pY7q6hg6VqwNta0MZetElF19sP49AhfAPAAQpQFWu91Onjl5xHbrGsCv//r1A3d/5+7eid0T3wvLNXhveWHLwQd+9MBA7DZT95XdBzb1b9q38smVfY0tI68ytEniup+v2yX6OSxXHdXVMXSssFxtqm1liJ3ElFnZ1YfYCUx9Vt/LTpBAjTAPAERpAH3yj0/+RQN1OBOqqa3po9XfW/3cEzufeGvaF6e9GZsqe+vjt/Yt/tri7bEBWn/5T/3C1IPt09rfiw3S+UK/0oWKlTqqq2PEriLUptpWhpIpxm8qu/qgvgw7dqWv6rP6rt+B9b8DUIV5ACBKf4VrIL125bW/0/bp4ZRYDe6XXX3ZPg3WrVNaj4UnkfwBuKbKhtNl9YA7Xx8SfUh+bn2Iyk/HZkvlx82PM6wsay9/EB8eV1n1ubKrD8Vy9VF9VZ/V99jVF1BDzAMApfTXeHbyOBF5cdNgOouqMihrum1ssaDKK1cKR8q2XdeArQfl4UlC/5+uL6mIlalOOtiXbBOvNvNsYZvKmmcL30WiPhb7bP37Bz6FeQCgqvSFUA3xrdG11kLlbV1tR2PlGszLrjL0XnMN0i0dLcfDq5v0BJJdXUQWGZ7M6pyIvU/9/NVJycNzZc1echXv07mTCHtkwQPzAMCYqm+Mr8fQX/k6QeiWUkn5UNnraLPbUKdjbzOs1iYwzpgHAEyk+1nVla8Gz/fCKi2vi++jBXyOmAcAPjPdHtJDaL2zPFpeuQKYvmD6gY7ZHX+Klbd1tf3t5vU39y24bcHu2FWGnnFoiq3EFhOqjurqGDpWrA21rQxlVyPKnk4CKLnVBThgHgCI0gK+a1Zcs2vGNTP2hbeKNPBufXHr4VXfXRVdx9E1r+uQ3tWx5odrotutV475xlN7nzqy+vurn2tqHTlN99PeB6I6qqtj6FhhudpU28qgLGG5Miu7+qC+FMvUV/VZfY8tYgRqiHkAIKpncc9rTx96+sN7n763L5vRdP5KQX+9awBect+S7elU2+BWk2ZBaaGe3tehLUfCqwydAOZ/ef5L3Vd2vxm9wtAbCZfMflVit6lUR3V1jPAEpLbUptpWBmUplqdbxFcyK7v6ULyKUh/VV/VZfdfvwPrfAajCPAAQpdlKGoT1zgzNhApnJumv+GytxqD+4g/XY2ggzh50j3hnRz7TKZ+mG9vOXeWZEdu559N8YzPE8veEqG1lKJbps3S793NrRU6HV0/Z7Kwz6rP6Xja7DKgR5gGAUvnCu9hrY9PyyuCtATl9t0fH8FfX5tu5a1CO3QrSavL8ZFC8RdacJKcW1E/Yn78PRD/rs8JxB/N6sVXs2TtETsa2c1dGZVXmsgf06mtsYSRQg8wDABdEf9WHJ49cOoiXrAPJp/EWb2FNTJKPHk6SgZcuueT1SoVB0c/6TGX591SnbBpvvg6kbJ2HsrLVO8YJ8wBATahPkjMrk2TXsSR5v/LB2SJ9pjJ9xzonUEPMAwA1YXKSfPCzypVG5X/OxqhM37HOCdQQ8wBAVNmzC9HaCk2PDWc45bRT7sK7Fu6cMmfK27FyvQjqqtuv2j1j4T+n4M5Iknd3JMkrZ5Nzt8XmLZ/3suhnfaYyfef89yt1dYyyl0qpbWVQlpKMR9SHsnUi+bMU638HoArzAMAIGrSXPbKs/8EfPzjQeXnn2+EDZS3Q0xoLTZPNNiUc9rxBA/czR5/5x03fvOm52PMPDf7b9m87qhdC5du1dyXJsV8nyc7KF9J1II//3+N/FP2sz1Sm7+i7qqO6OkbxJJRTm2pbGZQlLFNmZVcf1JdiufqqPqvv+h3wvAQ1zDwAMIL+8l7x7RW9G3s37q0MsPvTKbmFFdta5a2Feprqmm14OFR8aK2//jWAa5FeurttsJZDs5z0RsH5N83/Q16vKUkG1yVJ/ydJ8olmVy1atWiH6Gd9pjJ9R99VHdXVMcK9tLJdfk+obWUoXgXlOZVZ2dWH4mp59VF9VZ/Vd/0OuApBDTMPAES1drUe1V/iGpB1uyc8CWgqbL5IMLa1evb5iXzr9Mi27LoS+Fh7WuV7YnUnyZFtSdKbzaI6k70XZFCfqSytl30/rVs/cg1I3la2LfvwLeizLeTzxYbhKvliX9V3/Q6s/x2AKswDAFXlW6OXTMVNFwnqeUG0vPGf7wyJlRVPFPnnU5Lk+O11E3blVwv6WZ/l5cUTS2yV+vl3fTTGp/gqa77YMFaeb0Fv/XsH/gXmAYAxVW1BXrWyxiQZbMxuWV3M4wLjiHkAAIBP5gEAAD6ZBwBKabpsbBqrnhVMnjX5z9oWJLanlG4haZfb1s7W0lfdTr9q+v5JMyZF3yei+lqjIWW3o1RXxyh7n4faVoZYfWVWdvUh9ixEfc6nFwM1zDwAEKVNBe/7z/uey7ZsH/YsYtoV097UGo07Nt2RTnPVVNvivlSaOvut//3WH1Y9tapPA3FYXwP/ll1bDt6z7Z6+2Hbumgm1/tn1uyW2WFF1VFfH0LGKZWpLbaptZShO41VGZVVmZVcf1JewvvqsvpdtIgnUCPMAQJQW6G3dvfXQXVvv6g23Ve+8vPPw2v9Zu0PrLPIt2YtXKvrL/4EfPzBw27/d1ptt+z7sBKKrB50Alt6/dCBfR1Is1/Ra1ZVwqm2+jkN1dYzwKiab+fWx6ipD8X0fWVvpVvDKrj6oL3l5vo28+qy+xxYpAjXEPAAQpUG2+8ruAxO7J74Xu0rQLSB9nk+rDb9TKT+uK4F03UbkNlK+o266q25wglGd/H0g4XvT02nFWb1YrjRPpU62xfzxsM1i3tguwvpcfVbfed0tapx5AOCChO/zGFFeV3W67VDZmgsds+y41bZr/7Q28/eJWP/egIvAPAAAwCfzAAAAn8wDAAB8Mg8AjIr2lNIU29imhdI2te1IukdWY/xZRltX29F0HUnJ84rWztZjEitTHdXVMcKy9NlJpU21rQyR8nSTR2Uve98J4IR5AOAz02aFd/z7Hb3f/MU3X9A6i3AzxY6ejnfW/Xzdzru23NWbzXwadoLRLKeH/vuh7V/9j6/2NU9q/iA8wejEsea/1vRLeBLRd1VHdXUMHatYnu7yW2lTbSuDshTqppspKrOyqw/qi/XvExgl8wDAZ8YJBKgJ5gGAUeEWFmDOPAAAwCfzAAAAn8wDAAB8Mg8AXBC2MgHMmAcAothMkc0UUfPMAwBRbOfOdu6oeeYBgCheKMULpVDzzAMApXilrf2/AVCFeQAAgE/mAQAAPpkHAMZUtSmz1coak2RQLvZxgXHEPABQVTpttrn+VOxZgT7TYB1uplisq80KYwN6ukfWufUcw6b5TkmS47fXTdil2Vain/VZXp5/P68fHjedoltpM1aWb6aYrV2J9ifta2P5uhaghpgHAKJau1qPdl7e+bYGU82ECgdVTa9taG44mW1OeDIszzctzAf08CSS7prb0vhxuk4kW+vRnSRHtiVJb/HEop/1mcrSetn307rB9N9iW7FNHnWsNKuyVbKHU4SLfVXf9Tuw/ncAqjAPAIygQXbFt1f0buzduHf6gun7NSgXZzt1zO7405ofrum/8aEb+/N1HMXBXFNntc7isqsv25cO5MHJpXVK67FlDy3rn3/T/D/k9ZqSZHBdkvR/kiSfaKrtolWLdoh+1mcqa8puaamO6uoYOlbx2NlJ4oTaVobiNN48pzIru/qgvuTl6qP6qj6r7/od6Hdh/e8BlDAPAIygAXbZI8v6H/zxgwP6Szy8eqgMsAc2Pb9p393fuTt9n0b4l/7CuxbufOboM//QAB67VaQFetv2bzt6/w/u78+ny3YlybFfJ8nOyhfOTpw+8V2t0RD9rM9Upu/ou6qjujpGbLGf2lTbyqAsYZkyK7v6oL4Uy9VX9Vl91+8gNo0ZqBHmAYAo/eVd9r6M+sb601qjEVvkJ5XP39PAXfzrv6i5vfmjq26/andx8J+RJO/uSJJXzibnTmDzls97WfSzPlOZvnP++5W6OoaOFWtDbSuDspRkPKI+qC+xcvWdqw/UOPMAQE2YnCQf/CxJBir/czZGZfqOdU6ghpgHAGpCfZKcWZkku44lyfuVD4adPPSZyvQd65xADTEPAFwQ3WKK7Wor+XbtJVNmB8MddScmyUcPV640XrrkktcrFQZFP+szleXfy3fyjW33rraqbfeurDzXwDhhHgAopQfKmuVUtqmg9pTSVNhs6/RhJ5FsjchQ2bMUza46P1W3cCJoTpJTC+on7Fcd0c/6rHDc81N8dYzwuPmzi/TkFZy4lFFZlTm2h5eor+ozixHhgHkAIKqtq+2oprrOvXHunmxdxbAHytk27em7PDQgh3/Vp1N/z10lDI1YA9Jw7sSSbwUflufbqofbyKd1s++rbnqiaBi5FiRdEKirm0qGYpk+U9ZsEaLKPw7a1YnnjPqsvut3YP3vAFRhHgCI6lnc89rTh57+8N6n7+3LFuedH6i1y+2q767qy7Z6Px0O4prhpGmyGoTzxYbF8qbWpr/P//L8l7qv7H4ztp27BvjZS2a/KrFV4aqjujqGjjWsbrZIUG0rQzhTTFmVWdnVh+L7QrLFjSfUZ/VdvwPrfwegCvMAQJRuBV2z4ppdM66ZsS981qBFeltf3HpYA3D4V7xoeqzWWGihXrjaWyrHfOOpvU8dWf391c+FJwDR2o8Nv92wR/RzWK46qqtj6FhhudpU28qgLGG5Miu7+qC+FMvUV/VZfS+bxgzUCPMAwGem20caeIt/vQ8rb6w/rQV6xVXeRW1dbX+7ef3NfQtuW7A79oBdVxjXf/36AYleoVTqqK6OoWPF2lDbylC2zkPZ1QdeWwvHzAMAJtKZUnVVdtRtmDBU9qA7La87t0+WdT8AQ+YBgDFVdgWQT+MN97IqlA/Frk5Edcqm8VZrExhnzAMAVcVmOuXyabpls5XyrdFjJ4Lm9uYPNcOqpaPleDjDK51lVTlBZBs1hjO0TmZ1TugY4XHzdSBlt6aUNZ/mG+1TNkPM+vcO/AvMAwClsi3R091tw5OIPs+3TtfaifB2Ur61umZBxQbzfGt1PeOIbPWeTtPNp/mOOG6lTmwLeVEdtRnbQl7fV9bz7wwJrmCyk8f5Plv//oFPYR4AiJo8c/KfVz65su/aldf+LhtQh/1V3tHT8U76ELqp/lRs4Z0+z68GwoE+v7oouzrJ3gNyOp0iHHsZVX6VkR1nWFnWXrYW5FR43Oz2VzoJQH0olmfvChlUn9V3/Q6s/x2AKswDAFEzr52598k/PvkXDaThX+NNbU0frf7e6uee2PnEW9O+OO3NcJBv7Ww9euvjt/Yt/tri7eEgLjoxTP3C1IPaKTe2mlyrxTW4S77de5HqqK6OoWOF5WpTbSuDshTLlFWZlV19UF+GHbvSV/VZfdfvwPrfAajCPAAQpUFaA2jsr3AN0Jpiq4V6E7snjtgufer8qQe3vLDl4AM/emAgtg6k+8ruA5v6N+3TQB1bR9I2te3Iup+v2yX6OSxXHdXVMXSssFxtqm1lUJawXJmVXX2IneDUZ/U9dnIDaoh5AGBU9Jd/2QCr5xA91/W8Fhu8pWNWxzt6IZTeKBgbwLWA784n7uyV2GI+1VFdHUPHirWhtpWh7GG6sseuXgBHzAMAJvQiKG05UlauB+WxRYS59J3mJS+TAj4nzAMAY0YPuMtOErrNlM6Uqos/JNdVRv4gPixXHdWN3R4TtcmW7fgcMA8AjFr2QPqt2Eki38590mWT/toypWXEYsFLJ196XOV6SB4O9rqy0HRbCa8y9F3VUV0dIzyu2lKbse3cRVmVme3aMQ6YBwBGRVNlW7taj6brNSLPMTQlVjOgNIiHVwoavNN3iExpeb+9u/292Hbu+ftAYtu5q47qZieSYXXT7dorbart2ILA9MqmklnZ2QoFzpkHAEZF78x47FePvXj1iqt3lUyVfWvWolmv5+s9wvL8PSGxQTwty/bCir7N8NwbB8/E3jWSrw9R27ErDWVVZmVXH6x/j8AFMA8AjMoVX7ni95sHNu+/7t7rdoSDtG4tPfyTh7dv3r75QOfczsNhXV0l6H0di+5ZtCN2+0sPz5euWTogsQfpqqO6OkbsOYjaVNvKEN7mUlZlVnb1wfr3CFwA8wDAqOj2UOlCv8oAr8H/lg239OlWU1iuZxt6V8ejv3z0hcoVwYjnI5/2PhDVUV0dI/a6XbWptpUhdoLKFyqy5xWcMw8AjInsVlJ0DYaeQcz90tw9us0U26gxfSPh0tmvSuwWl+qoro5Rts4jncHFMw6Mb+YBAAA+mQcAxkzZlunS0tHyvh6Ct09tH7FVSf5wPH9QHparjj7XMUbTNjBOmAcAxoQGf03Djc3CEt16Unnn5Z2Hw4fwWiSo5xSin8Pjqk567JJt4tWmylnrgXHOPAAwJjT7qWte16Hs5U3Dp9pWrh60SWLnnM63Y28VVF29s1xiiwVVR3V1jPAKRW2pTbUdqwuMI+YBgItOg/rytcv7t+7eemje8nkvjxjkGyYMabfbOUvnvBLbckRXET2Le16T6NVLpY7q6hiRF10NqU21rQxlr8UFxgHzAMBFp6uAhXcv3Ln2p2t3zFg4442wXKvA1z+7fvfG3o17O2Z1jNguPp3G+5sNeyQ2jVd1VFfH0LHCcrWptpWB21gYx8wDAGMifQ5xbr+rEQO4bjEtuW/J9mWPLOuPvddciwdv+MYNz0tsIaHqqK6OEVvLkT5/qbTNhooY58wDACaybUpK12mkr62tcvtJdWNrSIDPEfMAAACfzAMAAHwyDwAA8Mk8AADAJ/MAAACfzAMAAHwyDwAA8Mk8AADAJ/MAAACfzAMAAHwyDwAA8Mk8AADAJ/MAAACfzAMAAHwyDwAA8Mk8AADAJ/MAAACfzAMAAHwyDwAA8Mk8AADAJ/MAAACfzAMAAHwyDwAA8Mk8AADAJ/MAAACfzAMAAHwyDwAA8Mk8AADAJ/MAAACfzAMAAHwyDwAA8Mk8AADAJ/MAAACfzAMAAHwyDwAA8Mk8AADAJ/MAAACfzAMAAHwyDwAA8Mk8AADAJ/MAAACfzAMAAHwyDwAA8Mk8AADAJ/MAAACfzAMAAHwyDwAA8Mk8AADAJ/MAAACfzAMAAHwyDwAA8Mk8AADAJ/MAAACfzAMAAHwyDwAA8Mk8AADAJ/MAAACfzAMAAHwyDwAA8Mk8AADAJ/MAAACfzAMAAHwyDwAA8Mk8AADAJ/MAAACfzAMAAHwyDwAA8Mk8AADAJ/MAAACfzAMAAHwyDwAA8Mk8AADAJ/MAAACfzAMAAHwyDwAA8Mk8AADAJ/MAAACfzAMAAHwyDwAA8Mk8AADAJ/MAAACfzAMAAHwyDwAA8Mk8AADAJ/MAAACfzAMAAHwyDwAA8Mk8AADAJ/MAAACfzAMAAHwyDwAA8Mk8AADAJ/MAAACfzAMAAHwyDwAA8Mk8AADAJ/MAAACfzAMAAHwyDwAA8Mk8AADAJ/MAAACfzAMAAHwyDwAA8Mk8AADAJ/MAAACfzAMAAHwyDwAA8Mk8AADAJ/MAAACfzAMAAHwyDwAA8Mk8AADAJ/MAAACfzAMAAHwyDwAA8Mk8AADAJ/MAAACfzAMAAHwyDwAA8Mk8AADAJ/MAAACfzAMAAHwyDwAA8Mk8AADAJ/MAAACfzAMAAHwyDwAA8Mk8AADAJ/MAAACfzAMAAHwyDwAA8Mk8AADAJ/MAAACfzAMAAHwyDwAA8Mk8AADAJ/MAAACfzAMAAHwyDwAA8Mk8AADAJ/MAAACfzAMAAHwyDwAA8Mk8AADAJ/MAAACfzAMAAHwyDwAA8Mk8AADAJ/MAAACfzAMAABz6f/BH/6lNqRsjAAAAAElFTkSuQmCC' style='width:400.0px;height:400.0px;' /><div style='position: absolute; top:0; left:0; padding:1px 3px; background: #777; color:#fff; font-size: 90%; font-family:sans-serif; '>initial snapshot</div></div>"
      ],
      "text/plain": [
       "<jupyter_rfb._utils.Snapshot object>"
      ]
     },
     "metadata": {},
     "output_type": "display_data"
    },
    {
     "data": {
      "application/vnd.jupyter.widget-view+json": {
       "model_id": "a422087eef034fa98bf245fc2cd99640",
       "version_major": 2,
       "version_minor": 0
      },
      "text/plain": [
       "CanvasBackend(css_height='400px', css_width='400px')"
      ]
     },
     "execution_count": 5,
     "metadata": {},
     "output_type": "execute_result"
    }
   ],
   "source": [
    "# One can also define more than one center\n",
    "# This will create multiple domains and merge them, here shown with the atom positions as centers\n",
    "mask = domain_sphere(atoms, 3, atoms.X)\n",
    "view_grid(atoms.r[mask], atoms.X)"
   ]
  },
  {
   "cell_type": "code",
   "execution_count": 6,
   "id": "c1cae1ad",
   "metadata": {},
   "outputs": [
    {
     "data": {
      "application/vnd.jupyter.widget-view+json": {
       "model_id": "c1d1f734cf704fcfbadd0a9807530373",
       "version_major": 2,
       "version_minor": 0
      },
      "text/plain": [
       "RFBOutputContext()"
      ]
     },
     "metadata": {},
     "output_type": "display_data"
    },
    {
     "data": {
      "text/html": [
       "<div class='initial-snapshot-7e041ec0205b40309835ff58b1e59bb7' style='position:relative;'><img src='data:image/png;base64,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' style='width:400.0px;height:400.0px;' /><div style='position: absolute; top:0; left:0; padding:1px 3px; background: #777; color:#fff; font-size: 90%; font-family:sans-serif; '>initial snapshot</div></div>"
      ],
      "text/plain": [
       "<jupyter_rfb._utils.Snapshot object>"
      ]
     },
     "metadata": {},
     "output_type": "display_data"
    },
    {
     "data": {
      "application/vnd.jupyter.widget-view+json": {
       "model_id": "7e041ec0205b40309835ff58b1e59bb7",
       "version_major": 2,
       "version_minor": 0
      },
      "text/plain": [
       "CanvasBackend(css_height='400px', css_width='400px')"
      ]
     },
     "execution_count": 6,
     "metadata": {},
     "output_type": "execute_result"
    }
   ],
   "source": [
    "# An isovalue can be used to generate a domain from a real-space field data like orbitals\n",
    "psi = KSO(scf)\n",
    "mask = domain_isovalue(psi[:, 0], 1e-2)\n",
    "view_grid(atoms.r[mask], atoms.X)\n",
    "\n",
    "# The same can be done for the density\n",
    "# mask = domain_isovalue(atoms.n, 1e-3)\n",
    "# view_grid(atoms.r[mask], atoms.X)"
   ]
  },
  {
   "cell_type": "code",
   "execution_count": 7,
   "id": "96e95e9f",
   "metadata": {},
   "outputs": [],
   "source": [
    "# Truncated densities can be used to calculate, e.g., SIC energies\n",
    "# Calculate the single-electron densities from Kohn-Sham orbitals first\n",
    "ni = get_n_single(atoms, atoms.J(psi))"
   ]
  },
  {
   "cell_type": "code",
   "execution_count": 8,
   "id": "cb376db5",
   "metadata": {},
   "outputs": [
    {
     "name": "stdout",
     "output_type": "stream",
     "text": [
      "Esic(untruncated) = -0.064818923 Eh\n",
      "Time(untruncated) =  0.006574 s\n",
      "Esic( truncated ) = -0.064786808 Eh\n",
      "Time( truncated ) =  0.002664 s\n"
     ]
    }
   ],
   "source": [
    "# Calculate the SIC energy for untruncated densities\n",
    "start = timeit.default_timer()\n",
    "esic = get_Esic(scf, scf.W, ni)\n",
    "end = timeit.default_timer()\n",
    "print(f'Esic(untruncated) = {esic:.9f} Eh\\nTime(untruncated) =  {end - start:.6f} s')\n",
    "\n",
    "# Calculate the SIC energy for truncated densities\n",
    "# One can notice a small energy deviation, but a faster calculation time\n",
    "mask = domain_isovalue(ni, 1e-4)\n",
    "ni_trunc = truncate(ni, mask)\n",
    "start = timeit.default_timer()\n",
    "esic_trunc = get_Esic(scf, scf.W, ni_trunc)\n",
    "end = timeit.default_timer()\n",
    "print(f'Esic( truncated ) = {esic_trunc:.9f} Eh\\nTime( truncated ) =  {end - start:.6f} s')"
   ]
  },
  {
   "cell_type": "code",
   "execution_count": 9,
   "id": "90015822",
   "metadata": {},
   "outputs": [
    {
     "name": "stdout",
     "output_type": "stream",
     "text": [
      "True\n"
     ]
    }
   ],
   "source": [
    "# The truncated SIC energy will converge for smaller isovalues to the untruncated value\n",
    "mask = domain_isovalue(ni, 0)\n",
    "ni_trunc = truncate(ni, mask)\n",
    "esic_trunc = get_Esic(scf, scf.W, ni_trunc)\n",
    "print(esic == esic_trunc)"
   ]
  }
 ],
 "metadata": {
  "kernelspec": {
   "display_name": "Python 3 (ipykernel)",
   "language": "python",
   "name": "python3"
  },
  "language_info": {
   "codemirror_mode": {
    "name": "ipython",
    "version": 3
   },
   "file_extension": ".py",
   "mimetype": "text/x-python",
   "name": "python",
   "nbconvert_exporter": "python",
   "pygments_lexer": "ipython3",
   "version": "3.10.4"
  }
 },
 "nbformat": 4,
 "nbformat_minor": 5
}
