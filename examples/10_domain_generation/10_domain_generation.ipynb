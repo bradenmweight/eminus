{
 "cells": [
  {
   "cell_type": "markdown",
   "id": "32ba3e0d",
   "metadata": {},
   "source": [
    "# Domain generation"
   ]
  },
  {
   "cell_type": "code",
   "execution_count": 1,
   "id": "d74ea383",
   "metadata": {},
   "outputs": [
    {
     "data": {
      "application/vnd.jupyter.widget-view+json": {
       "model_id": "0cb23e8419e746dfbe328595734a2e26",
       "version_major": 2,
       "version_minor": 0
      },
      "text/plain": []
     },
     "metadata": {},
     "output_type": "display_data"
    }
   ],
   "source": [
    "import timeit\n",
    "\n",
    "from eminus import Atoms, read_xyz, SCF\n",
    "from eminus.addons import view_grid\n",
    "from eminus.domains import domain_cuboid, domain_isovalue, domain_sphere, truncate\n",
    "from eminus.energies import get_Esic, get_n_single\n",
    "from eminus.orbitals import KSO"
   ]
  },
  {
   "cell_type": "code",
   "execution_count": 2,
   "id": "fb7031f3",
   "metadata": {},
   "outputs": [
    {
     "name": "stdout",
     "output_type": "stream",
     "text": [
      "Start preconditioned conjugate-gradient minimization...\n",
      "Iteration: 1 \tEtot: +13.6324461\n",
      "Iteration: 2 \tEtot: +14.5458936\n",
      "WARNING: Total energy is not decreasing.\n",
      "Iteration: 3 \tEtot: +2.0682666\n",
      "Iteration: 4 \tEtot: +0.9383722\n",
      "Iteration: 5 \tEtot: +0.4308023\n",
      "Iteration: 6 \tEtot: +0.1866444\n",
      "Iteration: 7 \tEtot: -0.0909597\n",
      "Iteration: 8 \tEtot: -0.3556199\n",
      "Iteration: 9 \tEtot: -0.6010265\n",
      "Iteration: 10 \tEtot: -0.7318476\n",
      "Iteration: 11 \tEtot: -0.7594986\n",
      "Iteration: 12 \tEtot: -0.7672233\n",
      "Iteration: 13 \tEtot: -0.7704663\n",
      "Iteration: 14 \tEtot: -0.7714261\n",
      "Iteration: 15 \tEtot: -0.7717200\n",
      "Iteration: 16 \tEtot: -0.7718175\n",
      "Iteration: 17 \tEtot: -0.7718555\n",
      "Iteration: 18 \tEtot: -0.7718687\n",
      "Iteration: 19 \tEtot: -0.7718729\n",
      "Iteration: 20 \tEtot: -0.7718743\n",
      "Iteration: 21 \tEtot: -0.7718747\n",
      "Iteration: 22 \tEtot: -0.7718747\n",
      "SCF converged after 22 iterations.\n",
      "Total SCF time: 1.42687 s\n",
      "Total energy: -0.771874662 Eh\n"
     ]
    }
   ],
   "source": [
    "# Start by creating an `Atoms` object for lithium hydride\n",
    "# Use a small `s` to make the resulting grid not too dense to display it\n",
    "atoms = Atoms(*read_xyz('LiH.xyz'), s=30, center=True, Nspin=1)\n",
    "scf = SCF(atoms)\n",
    "scf.run();"
   ]
  },
  {
   "cell_type": "code",
   "execution_count": 3,
   "id": "8a40ed60",
   "metadata": {},
   "outputs": [
    {
     "data": {
      "application/vnd.jupyter.widget-view+json": {
       "model_id": "92a34244dea74a6eb839c52d41a7d0e9",
       "version_major": 2,
       "version_minor": 0
      },
      "text/plain": [
       "RFBOutputContext()"
      ]
     },
     "metadata": {},
     "output_type": "display_data"
    },
    {
     "data": {
      "text/html": [
       "<div class='initial-snapshot-bced73bf0cce4bf68c7094ae9943f7b6' style='position:relative;'><img src='data:image/png;base64,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' style='width:400.0px;height:400.0px;' /><div style='position: absolute; top:0; left:0; padding:1px 3px; background: #777; color:#fff; font-size: 90%; font-family:sans-serif; '>initial snapshot</div></div>"
      ],
      "text/plain": [
       "<jupyter_rfb._utils.Snapshot object>"
      ]
     },
     "metadata": {},
     "output_type": "display_data"
    },
    {
     "data": {
      "application/vnd.jupyter.widget-view+json": {
       "model_id": "bced73bf0cce4bf68c7094ae9943f7b6",
       "version_major": 2,
       "version_minor": 0
      },
      "text/plain": [
       "CanvasBackend(css_height='400px', css_width='400px')"
      ]
     },
     "execution_count": 3,
     "metadata": {},
     "output_type": "execute_result"
    }
   ],
   "source": [
    "# Create a boolean mask for a cuboidal domain\n",
    "# This will create a domain with side lengths of 3 Bohr,\n",
    "# with the center in the center at the center of mass of our molecule\n",
    "mask = domain_cuboid(atoms, 3)\n",
    "\n",
    "# Display the domain along with the atom positions\n",
    "# The `view_grid` function can be used outside of notebooks\n",
    "view_grid(atoms.r[mask], atoms.X)"
   ]
  },
  {
   "cell_type": "code",
   "execution_count": 4,
   "id": "f7cfd13a",
   "metadata": {},
   "outputs": [
    {
     "data": {
      "application/vnd.jupyter.widget-view+json": {
       "model_id": "68f99dd963784dfc880ef7ecdce61788",
       "version_major": 2,
       "version_minor": 0
      },
      "text/plain": [
       "RFBOutputContext()"
      ]
     },
     "metadata": {},
     "output_type": "display_data"
    },
    {
     "data": {
      "text/html": [
       "<div class='initial-snapshot-360a55b014a544e3becd53017da5ba41' style='position:relative;'><img src='data:image/png;base64,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' style='width:400.0px;height:400.0px;' /><div style='position: absolute; top:0; left:0; padding:1px 3px; background: #777; color:#fff; font-size: 90%; font-family:sans-serif; '>initial snapshot</div></div>"
      ],
      "text/plain": [
       "<jupyter_rfb._utils.Snapshot object>"
      ]
     },
     "metadata": {},
     "output_type": "display_data"
    },
    {
     "data": {
      "application/vnd.jupyter.widget-view+json": {
       "model_id": "360a55b014a544e3becd53017da5ba41",
       "version_major": 2,
       "version_minor": 0
      },
      "text/plain": [
       "CanvasBackend(css_height='400px', css_width='400px')"
      ]
     },
     "execution_count": 4,
     "metadata": {},
     "output_type": "execute_result"
    }
   ],
   "source": [
    "# The same can be done for a spherical domain with a radius of 3 Bohr\n",
    "mask = domain_sphere(atoms, 3)\n",
    "view_grid(atoms.r[mask], atoms.X)"
   ]
  },
  {
   "cell_type": "code",
   "execution_count": 5,
   "id": "26a40290",
   "metadata": {},
   "outputs": [
    {
     "data": {
      "application/vnd.jupyter.widget-view+json": {
       "model_id": "995c999c6f3e44ca9fcfc4349c67ed86",
       "version_major": 2,
       "version_minor": 0
      },
      "text/plain": [
       "RFBOutputContext()"
      ]
     },
     "metadata": {},
     "output_type": "display_data"
    },
    {
     "data": {
      "text/html": [
       "<div class='initial-snapshot-15150d075ed9442182e493505a320515' style='position:relative;'><img src='data:image/png;base64,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' style='width:400.0px;height:400.0px;' /><div style='position: absolute; top:0; left:0; padding:1px 3px; background: #777; color:#fff; font-size: 90%; font-family:sans-serif; '>initial snapshot</div></div>"
      ],
      "text/plain": [
       "<jupyter_rfb._utils.Snapshot object>"
      ]
     },
     "metadata": {},
     "output_type": "display_data"
    },
    {
     "data": {
      "application/vnd.jupyter.widget-view+json": {
       "model_id": "15150d075ed9442182e493505a320515",
       "version_major": 2,
       "version_minor": 0
      },
      "text/plain": [
       "CanvasBackend(css_height='400px', css_width='400px')"
      ]
     },
     "execution_count": 5,
     "metadata": {},
     "output_type": "execute_result"
    }
   ],
   "source": [
    "# One can also define more than one center\n",
    "# This will create multiple domains and merge them, here shown with the atom positions as centers\n",
    "mask = domain_sphere(atoms, 3, atoms.X)\n",
    "view_grid(atoms.r[mask], atoms.X)"
   ]
  },
  {
   "cell_type": "code",
   "execution_count": 6,
   "id": "c1cae1ad",
   "metadata": {},
   "outputs": [
    {
     "data": {
      "application/vnd.jupyter.widget-view+json": {
       "model_id": "bc5e76fc858c4e5982cae9535771284d",
       "version_major": 2,
       "version_minor": 0
      },
      "text/plain": [
       "RFBOutputContext()"
      ]
     },
     "metadata": {},
     "output_type": "display_data"
    },
    {
     "data": {
      "text/html": [
       "<div class='initial-snapshot-e43d5eef23ea4e63ad9dfafff18841c9' style='position:relative;'><img src='data:image/png;base64,iVBORw0KGgoAAAANSUhEUgAAAZAAAAGQCAYAAACAvzbMAAAzO0lEQVR42u3debBdxX3g8WsjtKAFLQgJLYhVgBD7HsxisNkXGxuMsR3HxGDMFkwCdvAWxtg4rgx2Mqmp5I9MTVKTyWQyNTNZZhJPFj0tIDazGhsEAWwWywizG0lUXMz59jt96dvvSLYB0fR73z8+xeOe26d/3VfVZ+mt1+v1XpUk6XUoHoAkqU7FA5Ak1al4AJKkOhUPQJJUp+IBSJLqVDwASVKdigcgSapT8QAkSXUqHoAkqU7FA5Ak1al4AJKkOhUPQJJUp+IBSJLqVDwASVKdigcgSapT8QAkSXUqHoAkqU7FA5Ak1al4AJKkOhUPQJJUp+IBSJLqVDwASVKdigcgSapT8QAkSXUqHoAkqU7FA5Ak1al4AJKkOhUPQJJUp+IBSJLqVDwASVKdigcgSapT8QAkSXUqHoAkqU7FA5Ak1al4AJKkOhUPQJJUp+IBSJLqVDwASVKdigcgSapT8QAkSXUqHoAkqU7FA5Ak1al4AJKkOhUPQJJUp+IBSJLqVDwASVKdigcgSapT8QAkSXUqHoAkqU7FA5Ak1al4AJKkOhUPQJJUp+IBSJLqVDwASVKdigcgSapT8QAkSXUqHoAkqU7FA5Ak1al4AJKkOhUPQJJUp+IBSJLqVDwASVKdigcgSapT8QAkSXUqHoAkqU7FA5Ak1al4AJKkOhUPQJJUp+IBSJLqVDwASVKdigcgSapT8QAkSXUqHoAkqU7FA5Ak1al4AJKkOhUPQJJUp+IBSJLqVDwASVKdigcgSapT8QAkSXUqHoAkqU7FA5Ak1al4AJKkOhUPQJJUp+IBSJLqVDwASVKdigcgSapT8QAkSXUqHoAkqU7FA5Ak1al4AJKkOhUPQJJUp+IBSJLqVDwASVKdigcgSapT8QAkSXUqHoAkqU7FA5Ak1al4AJKkOhUPQJJUp+IBSJLqVDwASVKdigcgSapT8QAkSXUqHoAkqU7FA5Ak1al4AJKkOhUPQJJUp+IBSJLqVDwASVKdigcgSapT8QAkSXUqHoAkqU7FA5Ak1al4AJKkOhUPQJJUp+IBSJLqVDwASVKdigcgSapT8QAkSXUqHoAkqU7FA5Ak1al4AJKkOhUPQJJUp+IBSJLqVDwASVKdigcgSapT8QAkSXUqHoAkqU7FA5Ak1al4AJKkOhUPQJJUp+IBSJLqVDwASVKdigcgSapT8QAkSXUqHoAkqU7FA5Ak1al4AJKkOhUPQJJUp+IBSJLqVDwASVKdigcgSapT8QAkSXUqHoAkqU7FA5Ak1al4AJKkOhUPQJJUp+IBSJLqVDwAaYvZauutXhm/zfiXuo5tu8O2Pzrg/QfctP1u2z+cH9t60tYvLz5m8XfA3/lx0pCWc3SdmzzJu3T5pS2seADSGzJh8oSXps+f/mRXQ7/rEbvedeZXzhyau+fcB/Nje5+09y03PH3Dvx3z6WOGxo0ftyE9xoXhim9fcS/yiwTfJQ1pOUd+XvIiT/LOjxEjsRJz6XqT3gTFA5DekP3O2G/1lf985X27H737HennTUO/8cjzj1x+/aPXP7/kvUtu3Wr8VhvT4zMWzHj88I8dvmKHvXZYk198mieIny49eekt4O/0GN8lDWk5R3qMPMiLPMmbGNLjxEisxFy63qQ3QfEApDdkn1P2ufmy/3PZXbsdudud+Z39tDnTfrzo4EXf3Wb6Ns9utfXgBWTClAkv8pqpuQg8MX7y4GsuLgTNReJB5Bcevksa0nKOgXRNHuRFnuQ9kF8TGzESKzGXrjfpTVA8AOkN4QmhaazXbj1x6/V5Yz9uwrgNNOQ03hxPj9HQT5099alJ2056Ln/KmDh14guTZ07+Cfg7z480pOUc6THyIC/yJO/0GLFxnFjz/KRKFQ9AekO46w8Xj+aJIL9I0Gg3DTnHwn/TY7xeopGP/82ObUgNHEvS5K+o0rzyi1kaY/40JFWqeADSFrP1hK3Xx6eQfFQUDfz4SeN/2jxJrONpIj3Gq6lwgWjkr6n4LmlIm18kyCM+fZB36fJLW1jxAKTXjQZ8xvwZT/CqKT/Ga6ajLjhqOZ3d+UUAC/df+L1Tv3jqsvlL5z+QH+O11ZGfOHI58ldYIA1pOUd+jLzIk7yJIT9OrMScX3ykChUPQNosGnBGNi08YOF9+VPEnMVz/pVO6ROvOnFZPt+DRvqK/3fFvZ/675+6LX/C4DyHnHvIqm888Y2fMp8jP++2c7dde+nfXHon+DtPSxrSco48LXmRJ3kTQ3qMGImVmIk9Py9lpKxdFy3pbah4ANJmMRLq2vuu/dFH/uNHVk2aNun59Nh2u2z36Cf+9BOrj7nomKHxk8YPDMXlNdKCfRd8f96SeWvocxjR0G8/9aldjtjl7inbTVmXH6Nvo3nKuB95PwffJQ1pOUd+jLzIk7zzvhViJFZiJvb0GGWjjJSVMpeud+kXUDwAabO2mbHNM4d++NCVi49ZfAeNedpRTgM9ZdaUp7lj53VRPoyXzzk+c8eZj43oDG/+P/ZlTJwyYqTVS4ywQv5kw3dj30nXOckrxpQeIzZijDGlFxfKRNkoI2WlzKXrXfoFFA9A+rm4s+eVD5P48qeFdo7HKzTM+R0/jTZ9DZNnTf5JPlmQ7/K0wEzz/MLD08CsRbN+iPyph++Sph1tNZAfeZAXeebn5LvESKz58N8wOqtJSxldAkUVKR6A9HOFNa0mj38pzqUYcax5SuDun5FP6XEaeeZcxBFV6euoOAor3P2PHMa7kQYdHUN1N5AmH4XVH9rbIM90qC7fDyPCxodjI9bJinNYQhm9gKgexQOQfiE0vtvM2ObZvEEHDXB8Ekk/D41805Dz6igfytteeH7KE8bEaROfz8+XSo/xXdK0F4mB85EHeYUL16TByYLxySM/X1u2jW3ZNpSuZ+mXUDwAaZO4K5+96+xHZi6c+VjXcfoK6HDuGrXUpHn8lM+fsmzJCUtubRv0gVdYux+1+x2nfem0ZZw/v/BwkTjqk0ctR35x4bukIS3nSI+RB3mRJ3kTQx4XsRLzpvo5KGuIyWG+evsrHoAUGlXe/+fzJmYsnPH4ZX932V0f/aOPrpo8Y/JAg0tDToczo5YY+po/mSw6aNF3v3L/V5469fOnLsuXDuE103GXHjd0/cPXP5cvwohpc6etveSvL7kD/J0fJw1pOceIkVZNXuRJ3sQwkG8TI7ESM7HnFy7KSFkpM2VPj1E31JFDfPU2UjwA6dWlJy295ct3f/nxA8464Mb0IsJw2dO/fPrQuy959xAT9PLGk1FLDH1deMDC7+WTBfl/FjXkjj5/isD0edOf3OmQne4lvxFDdVlMcckOazBifa3mu6QhLefIz0te5EneXTERKzET+0C6pmwcp6yUmbLHY+RH3VBH1FXp30tqFQ9AenXnQ3e+5+N/8vGbeCXEMNi00aZR5a6eGdyx0zseC435tEnPt/0Pa/MhtyHt5PEvTZg8vDRJeow8Ytqu9a4YRYWudbJIE9J2LN5IXiHP7OJBbMQY06YXrdgpH8rYlDVNSx7UCXVDHVFXpX8vqVU8ACk0knQwh5FUE7d+ebudt3s0bdRjpzV393G0UjxGI8/nYV7G8GKG/ddCNOixcz1/jRXnZZBfPg8kDLltPkN+AeEz0nTNO4kd66EsSbpwkWpiI0ZiTdPF0WV8Hjv1+3E0dUBdkF8YREBZ7BvR20fxAKS+pvF8rr2IDA7VHdfetTeNMMfS11xhDkjT+IZGth1GO3Bs6vDEv45jG9unm5c6JgQyj+PF8OSSD+Nth+K2+4m8Now3DuFlYmI73yM/Fi5WXASTY+1FjKHE68NTzbiRQ3zJk7op/ftImeIBSAPC5L+OuRA0ohxjF8B8s6Y4T2TK7Cnr0uGz8fUUDX5+5x+fCvLXYuHYuOGJfWHiYkeD3l6QBp524pNQvCClx/h+iK1jngdloUzhdVnHMN6wcZVb4OrtqXgA0maFGeODE/b6jey07af9OHZk8520cWYo7KHnHbqS2eThVVYybJaLwk4H73TvQR886Eb6HfILCA0+Q3GRz+fgu6QhLedILzDkQV7kSd7E0M+TdbLachAzsXeVqd3DxPkgqkHxADRGcDfftbw5DebcPec+NGf3kct48M6fvcUP/MCBN+YNOcfOueGcFRf8xQW35KOhOM/hHz18xbee+darpOXVUXqc108f/MYHl3/t4a8927UkO0uVXPHtK+4Ff+fHSUNazpF3lpMXeZI3MeRlIlZiJvZ8SRPKSFrK3LXcCXVEXXX1g4RXYdlyLdIWVjwAjQHctR/2kcNWnvv7566YtVPzRJD0K9CgXvq3l9554X+78FZWt007yLmTv3rV1Ws++eefvGXyrMlPpxcR+gtOueaUZed885wVYdvarCGn8/ngsw9eFRZSzEdgbb3Vxh0P3PG+/d+3/03hqSHr56Ah3vP4PW/HiDW0hmeNP0NazpHvLkhe5EnexJAeI0ZiJWZiTzvMwyispoyUlTJT9v6xpk6oG+qIukovmMRDnVK31HHXTHdpCykegMYA+gVoMD+76rNr5u09b83kmZOfifMcJk2f9Oxxlx03dPSnjh6i85mGMzbK3M0z32L+PvPvTxZM7DeQNMA05pwrrkEVj/FqiQa57VvY2LG0+k9ZFbfdEnfEQovc0Yc5IvmCiRPDgo4bSZs/FcX1tsiTvNPXW3FNLmIl5oHRVk2ZYsc7ZaXMMSbyok44Th1RV9QZxzgXdUmdUrfUcT6UWdqCigegMYJ3/tvvtv3DcfFC+gdigx87rMPQ2OHRTa/Ehjt2IrOxU7hQNA10OjEwdFq3/SRxxFI8Fi8qcT5IGg/5xQ77/CmCNDGmfPhv3FuEtPnTSZz/ES8W/TjakWWxfyNt5CkLZaJslDEdRNCuGPwK54yvqGKe5EEdxsUdqdu0X0V6CxQPQGMIjR135nE47sBihHHZ9ebOm2Np30PbyL8SG+Z0Rno8Fif9Day4G49NCcNxRwzxbZ9qnu+aiR6fQLpmopMmpk/LFkaKtRfAgWPtE1Byweofi8vQxzkk6THqoF3Qsb9MfBp/HP7b1qkd73qrFQ9AY9DmGru4SdSmjsWnlIHPswY6PZbMAVmfD5Nth/luzIfqhs+GnzQ2jri4jGvTjNzFcDiPdi5Ink/XBQ7x6WJTdZJvPvXL1KW0hRUPQHrdeGWUNsj5BSLOn4izuNNjcX5IfAWUnzt9XTTwefsKrmsCYpxNn+bdFRsx56/UpAoVD0BjQFj/aXjRwhF3y+yDwfv7rslys3aa9YN9T9t3dddQWjqWz7j2jKGlJy+9pWtYK3M0zrr+rKGF+40cpssFYP8z91/Nkuwz5s94Ij9OB/exnz52CPmOhCANaTlH1xMAeZI3MYyoiyZWYib2dKRVRFkpM2XPj1FH1BV1NqJM44efztyQSm+h4gFoDGC468f++GM37nHsHt+Zst2Up2PHNI3pEb96xIov3PGFH7BYYPoqh2PMh/jm09/82b6n77s6H27LarfXfu/atSd/7uRl7MOR7UT4ysEfOnjV9Y9c/9x+Z+y3umsdrDP/3ZlDX7r7S48x6imPlyXcP/0/P/0ddC3nThrSco6u9bDIk7yJIW3Q21nsLxMzsVOGeCwOD6aslJmyxwtjfHVHHVFX1Fk8Rn7UKXVLHVPXpX9vjRnFA9AYsNd79rrtd+79nScOOfeQsAcGDSULC9KfsPdJe9/CKrML9lvwfUYixY5kGk02XnrXr79rOXfjdDa362FtiOtYMaFv+vzpT4al0LNRUfQd0Jiyx0ZXHwObPZFn6LzOnmA4/9w95j6EfIRWWMyxSUPafMOo2NCTJ3mnfTlx1BexEjOxx/W0Qjp2RmQYc1NWykzZ4ygsUDfkSV1RZ9QddUhdcpy6pY6p69K/t8aM4gFoDKBhpDGmjwBxCGrbB9HfjpYJeLFBDI3nuOHlP2hoYwd5XGGX8yYNbPhO2MM8mScSPw8d7DTW2ZIosZM87wMJix42MSOfI9IOFY4d7ANLkAzkNbjQ4vpwAWk/T4cpx5V7Y0d7jDN01refUydhmfvXVvpdT93FodCxXqljN5zSW6h4ABpD2gZ+Q1zAcLudt+u/52+H9r7cjlZiaOpP4rFw1z8pzOfoD3mNjXcc3tvOp9iQjqiKx/qjrbbOhsFOGl4mveMJ5JW4H3repxDmcjCvY1KYUJjmtTGOzhqxX/rwyK0Nccn2/jyP8W1Zhi86YdXgNBbqgLoIT1cTBy+O1F2ysOMGlzFRAcUD0BiU7+mRio1i3m8R0rFK7oSRjTraJ5SNeUPav7MfboQHnjSSi9HIC0hcjXfkcN2N+UTBGHfMJ0/Tnmdj10CBkBdlGjeyTOTTtVpw/3i7l0jp31NjVvEAJEl1Kh6AxrjQd7GJO2zu2vPNmfrHmjtvFibc1Dt/7txZGiTvw4hmLJzxOENi86ePcO7maYBXROh6MiANaTlH17nJk7zzCYURMRN719NDXPMr77xPzr0+n0gpFVI8AI0iNG6sDMsopPQVTzu34WZGGNH5Gy8Y0+dPf+J9X33f0KEfPnRlXJYjfQW127t2u/ND3/rQCkYfxf6TeGzeknlrLv5fF3+H4a5xaZQ0lr1P3PvWy//+8rsZ3ppfJOhwPu8Pz1vJcu1dczFo3C/4iwtuRb55FUhDWs7RMUFxI3mSNzHk9UOsxEzslKGfru3HoKyUmbL307WDA0hPXVFn1F08J3Xazpm5OZ0zE5aOaX4LfhNX6dUWUDwAjSIMTb1qxVX3v/uSdw/RYMXGl4lxzG1geGpcZ4rlyefuOffB31792w+9/6vvH4pLncdhqzjsvMNWfuWBr6yjIWZIbOwop5Get/e8By77u8vuOuqCo5a3d+UvtCvlhicGJutd+U9X3rfncXveztyL9CJCXwQr257xO2cMEUfXjPITfuuEZeiawU4a0nKOtF8j9I80eZEneRMDn7ed8i+3Ma4nZmKnDGEZlraDnTJSVspM2dO6iEvWU1fUGXVHHHG9Luo2zJlp6po8+T558Vvwm3TteyK9QcUD0CjCMNJP/OdPrGZOAne/vObh82RuwxrunCdOmfjC7F1mP0oDx3wHPmOeA53GNIpxbgQ7/81fOv/+sFd4XG233V2Qhpe77biabRz9FO+0+Zt9M9qLx4Z06Gw8ngyrHdGJvqkO8fj9uOpu/DwOuQ0jq5o8Q95xteHhp4T+aDBiJvY4eTAupxIurk1ZKTNlj3Newj4pwxMG11FX1Bnfpw6py/azNXHODHmG13NNen4LfhN+m9L/PjTqFA9Ao0jYg6Np+MLooW0GRw/FCXhh0t/wfIn1cfnxuKc5+1yEC0K74m5csiMug87xrlV1w1DW4Tv5jelS6fHuPYyCGj+470fcYrbdCre/OOKcXu+p9231zpvCHJQGf/NZcr6NSbp0lvlwHu3IrYE90YfXzdrYPqEMDPGNq/iGsiXb91L2uFIvdcLxdE916i4M8W3qku/lEyLjRQv8Jl19OdIbVDwAjVGbW7MpzgfpSpPv+ZEe65oU2E/XMU8iXCTac/L/C3q9J7/V6w01/7O++cKr4G8+41gbWxhG3NUgdw37jWm6VvBFf6+QTQxN3tQggJ9Xh9JboHgA0tvCxOZCcXGvt/xnvd7Pmg9eTfEZx/hO6Tilt5HiAUhvC9v3euv+rte7tfmfV7twjO+UjlN6GykegEYRlt6gU7jfYdx2LM9YMONxOoInTG63q237A3iHH7ZinTttbdxGtr++1fitNs5ZPOdfQ0fx8JpU6+OrIPLi9Q6dzXRGd20MxRyORQct+m7ab5Di3Cy7Hl9fze/1fnRjr3dPc/DVOMorjpLiM47xHb5LGtJyjvy8sT+HvNOlWtKNqIiZ2JP9SjbG8lFWysy5Yz9LHOJLHVFXbQf5+liPbaf/i9QxdZ3WfVgrq/lN0qVhpDdJ8QA0StCp++H/8OGVZ37lzKG4QCCNHXMmmPNw1tfPWh5GUzUNKSOH+D4jg65aftX97I1BZzCdvTSCU2dPfYqRRQx1Pf/Pzr+Z5co5ZxgV1XZU00B/+d4vP3Hi1Scui41r7DjmXE1+QxynoY59E/HiQ4PKqrZXr7p6TZgs2Byb3us99ye93sqmMK8yCfCSv77kTvA3n3GM7/Bd0pCWc3AuzhkbcvIiT/ImhjhaK8bGcWLmOGWIHfyUjTJSVspM2akD6oI6oW44F3VFnVF31CF1SZ1St9QxdU2dU/dx4Ul+E34b90zXm6x4ABolaLBoUM/+vbOX06jSYHKnzN32uX9w7sr3fOY9y2gA5+wx5yHmLmy3y3aPMpP7nBvOWXHEx49YQUNKOoa/0qDy9wm/ecKyYy46ZiisjDtt4vNx1jqNIo04mzYxeS4uthgbahpOPqehbofLbojb3hIr3zvk3ENWHXfZcUNhhFJ7cTmx17v9iV5vLXueMyQW/M1nHIsXCdKQlnPEobpxu1ryIk/yJoY4RDeua0WsfE7slIGyxNnllJGyUmbKHlYmbr5PnYQ6beqIuqLOqDvqkLqkTklPHVPX5E/dh7pq0vGb8Nt07W0ivQHFA9AowuQ15irQaHFnHFePpZFMh5rG/TlCg8kKtW3DGu7Ch+d4bEjv2OMrmdhIkyY2uvGzuLBgHMoan1QYxdROMBwYodU27P1XZnw2pdd78QO93url73jHnSxwCP7mM46F88ZXShMHZ8a3I6k2xvzik0WMJS4g2d+/vb0YxnkssXzxKaZ/MRw/PO8lPn1RV7He4v4j6RDpZKn79fwGpOU36ZpRL71BxQOQisqH407o9TYs6vUeP6LXuxf8zWebSyONUcUDkCTVqXgAkqQ6FQ9Ao0jsjwjLsE+Z+ELcNCrpN1ifvuePfQ9xOZHYV5GuypsMSd3YH7aa7jo4vMzJ+v4WuB07ASY7EubrWsXFCjuXdO96VRWXPek6V8yja2fEuEUtsaZLjsThvf1tcpM+mbgKb1o3/X6VpA7zuuU4dR9GaMV6mzBy9r70BhUPQKMEnbmMWgojk9q5F4wG4vNDPnTIqr3es9dtNGJhnwzmM8yZ9mM6eA/8wIE37nzYzvfE+RN8FhcPZFXb3Y7c7c64lHnbmL4ShvzOmvyT/U7fbzVzNeI+4ulaUiyVTvrYST9wwWoa1R0P2PG+3Y/a/Q7WqcovCOS1y2G73I2B9bza75GGtJwjXnz6nd9tJzd5x+Xa09iIlZiJnTK0Czq+kpaRModVhNvFJcPcmrZOqSvqjM+oQ75DnXJ+6pi6ps7j/BjS8Zvw2/B56X8nGlWKB6BRgmGlv/kvv/m9C//ywtsY9UNjOnvX2Y8wnPSLd3zxB6wIG4elhv82d97zl85/4LoHrlt37u+fu6K/yVJ7Jz9z4czHr15x9QPMa2AuRFzOnUaWOQ80pL/72O++dPqXTx+Kcz/CKKd2hBNDV69bc926Bfsu+H7cgjZeXCbPnPwMcy2uufWaR5i0l+8XQuP7G3//G/cg3V8DfJc0pOUcnIvP40WCvMiTvIkhjhQjtjgnhJiJnTJQljgaizJSVspM2amD+FQTN8+irqgz6o46TOuUOqauqXPqnt+A34LfhN9mUxtgSa9T8QA0SjDklTvy0LBt/dpQXRpN7qaZNBeXQQ9Llbcr0O53xn6rFx0cjg0M1eV73KUvOWHJreFVDp9Nbp80mr+5Mz/sI4et5Lx8Hvcdj6+kFh+zOGw2NWX2lHXpq50Qa9Ngs1cH6cMw2Ox1FENmDzzrwBuRL+rId0lDWs6RP6GQF3mSNzGkMREjsRIz6du9SDa2Q5hfDDPSm+9QZsoeLj7ZEF/qijqLKxPHCYacn/NS1/Gi1ZZtI78Jvw2/Uel/JxpVigcgvW4/bzXaru1q+2nHdfd9pOfe3PnDhWEzw3k3l/cvErtUgeIBSJLqVDwA6U2zqbv6fDfCXyRNHBn1S6XJXpX9ImmkihUPQKNMHI3EGlL5fuJoj70QVtjNNnmKx+JWsl0joMJIp8njX0rTxmNxKG8eT3/L20mvbUGbHNuQX1zicNo4fDg9FncQzC8IcafBzuHC415bHXegLyYpS9dIsLi17ubqqusY2uVjnt/UJlfSm6B4ABolmKewy+G73L3jgTveRyM6d8+5D4ahpOOGh/OyymwcSRVX6g0jqtiqdZu2ER03PESXVWP7uw+2o6doKBlRFFaebTvoY+MYF1LM5zuwN3kYwhuXgh/cCjfdfnbgaSPt0B/Yfradq5HMweiniXMxwhpek8LCiS+nx9rtdn8aLzRx6frQ0d2UibJRxjiaK15AqIvQST6uv0ZW2PqX43HF3TiCizpO65zfgHz5TfhtNre7ofQ6FA9Ao8TMhTMfY5nxi/7HRbdPnT11HQ0lQ0n5/MK/vPBWlhSnoWtXs32G/87cceZjLDPOHAUaR4awxrt4GtajLzx6+eEfPXxlXOq8HfIaRjIxJPWkz560bM/j97wt7ofRPrmEBn6nQ3a6l/kSk2dMfiYd3UWs/L370bvfwUinsO949qqK2BkJhfypJSzm2KQhLeeIF6V0tBR5kjcxxAsUscX9UIiZ2ClDGEHWlImyxSXrKTNlDxfK9omGuqGOqCvqjLpL65K6pY6pa+qcuid2fgt+E34bPi/970SjSvEANErQgB123mErD3jfATdxp80kOV71TJ8//cmP/fHHbqTBZGb01O2n/jj2L7Bp0pX/fOV9p33ptGU0pGHSX7uqLhsjfeYfP/NdGkSGxdLApq+UaJyve/C6p0/5/CnLwlPGhNf2FW/u2F9gyfOvPvTVnzAnI3+Nw9DXX/8vv37zF27/wqOzd5n9SP7ai7v3K759xb3I54HwXdKQlnNwrv6x9smCPMmbGIilf2zC8NMJMRM7ZWiPhYsPZaSslJmyh82h2lV8w3L2TR1RV9QZdRfrkTqlbqlj6po6D0N8m9+A34LfhN+Gc5T+d6JRpXgAGkXiDnr5501D9nTXfAsaTfbEaOdDbMiPLdhvwfd3WLLDmrgUSHqcp4CdD935nngnPhBH813mROx/5v79DZ8Gzt3ktduRu93FPI7YwKe4CDRPCbejq3+BNKTlHHncIE/yDnNfOvpkiJnYKUMeN8cpM2XP+2bIi7qizjr6bcKrPep6xO/S7vBY+t+HRp3iAUiS6lQ8AI1RmxsZ1HY4v7SJdJ3Da+MaWXmfRTg2fqv+nuN5PnEzpvxcqfRY3BQrjyGev+tOn5jimlddZd3UhEbqYLOTIR1dpbKKB6BRqH2f/9xmjj0fX2ulr2LiiCI+D1vcJsOAeX0Tt7XlVU/a9xCOTX1t0cSB/NpO77iLYHosvnLLX/GkQ24HRm5t4vuIOxR2dcr3F1mcGnYf7J8vbKfbjjxrdybsHwtb3TbpqIs4cm2gDtvXVbFvqKuu+Q1chVdbUPEANIrQqLFKLXt1MwqIvbz5nEYyjMAa/9py5dvO3fZHcR/0uMJtmNPQNMRhUcV2G9h44QjDXJv/htVpm8Y1NtJxuG9/nkjylBHmSkwZ3ko3jpDqH2vTxPWn0nLExQ/j4ozpsbguV55XPH/YWnbK4NyMPL745MB5KAtlSssY5pm05acuqJN2S+AwPybuj04d9ue/MNSZOm77XKh7fgN+C34TV+LVFlA8AI0irC57/SPXP9eOjHqZVWtp1BgFtPjoxWHI6w577fBgvGjQCLLQH8NLp8+f/gR303Qwx4l6fI+GL8x7mDC8B3rc55zjzHtg2GvcQz0sSNg2+Pw/DXKcL9LV6RyfTvJXW3HobRwSnB4LK+e2TxldgwJiXmFF4va8YVHJ4eG6YY9zYib29oIS9k8PZZswPC+GMsc64vvUCXVDHVFX1FkcWcb3qFPyoI6pa+qcuuc34LfgN+G3Kf3vQ6NO8QA0itDAHX/58UPc8cYGOiznfucXf9hfzj1OwmvumGn4Pn/b5x856+tnDdGAMmchriDLvIez//3Zy1n6nEaViXKh/6FttJkk98k//+Qth3/s8BWxgU4bdOZaMP9ht3ftdmeYvDduYJb3y/uetu/NR3z8iBU8AeSvo4jl4HMOXgX+To+FpdObNKTlHOlrMfIgL/Ikb2LoH2vnqhArMRM7ZYjHKBtlpKyUmbK382LCnBjqhlioK+qMugt9O8mFJCzn3tQ1dR4vcPwW/Cb8NqX/fWjUKR6ARhk2REr/n7v1pSctvYWZ0HmHMa9ZaCwPOvugG/NObjZJOv9Pz1/N/hdh+ffsCWLBvgvuZz7EsRcfO5Q/QaBp3Fd/9sbPPrjkvUtuy/skwn4gzbmvueWah7lTz9My9+Pyv7/8buTzQBD2A2nSco64H0i//E1e5EnexJCnJVZiJnbKkNVdWJ6dMnNu6iBNB+qKOouvBxEHFlDH1HU+PDj/TaQ3SfEANMZ19TNENN4s5dF1jDRsuJR2tKdPINyt8+onbqub4nvMs9j1V3a9q6tvgHMzyQ9dsZGGtJyjayQUeZJ3+vSSfo+Yw2ZRmyg3Ze66cMXYusokFVA8AI1Rmxq6Gkc6dd01t69qnqV/oet8sRM+T9Mfxpt1ltNHEJYBySf0NZ9Nnzbxx8gvEGG9quH1t0YsbhiH8Xb0m7zcphtRZspCmTqH+LZb+G5qEuDm9jOR3gLFA9AYE2dM8wqGxQC7jvHuP192Ix7jXX+6rlV6jEaazuaBdCy+2HyW9p/ENGE122yI7Pa93rozx73zpmsnjPsH8DefxeNxqHG8kKTnIw/yymef81mILZuNH9fPioMFRlysGHXW1EXXMeqOOuw6Jr1FigegMSKOopqxYMYT2++2/SO8ookT+MIw37ZBDivQsspsMsopjFBqnyBY9yldnqTdJjYMAQ4r1qZLwLer+DJfIt/fo91uN84PCWkW9HpP3tDrhT3WU3zGsZBfu6pvTNs/X3t+8oqr6vZj5MmkLSOxpk9ClIUyxSeY+NorDkKgLmK9xDJynLioQ+qSOo2juEr/zhpTigegMYC5DHufuPct9AvEfovYQDIyiYYwNsw0hgxdje/5477fYVjspOEhr/HVTX+v8YnDK/nmI6Y4f1hCfnjY7UB/Q1z+PY4Im9jrrf90r7f8Z73ez/J5G3zGMb4TRz7F5dmz/MJEQvLMO+7bUWZPtUOQ+xfHuKw8KGPcLz7EODnMRB+uk/ZCR13F/dPDK722P4W6pY6p69K/t8aM4gFoDGC46w3rbvi3I88/cjkNcDvkNjSAB33woBuv+Icr7mWeQphAmCwfMm/veQ8cc9ExQ4x6iq+o4jGGy87ZY85DcRIeTwTpqyMaVoa6xldKXa+AWNE2zCBvGunZvd66v+31bm0OvspTwqydZv0Q/M1nHOM77ZyTl0nb9QouvjIL813SDv7hGecvxMmQxB6XXYlPF5SRslJmyt4/J09lTd1QR9QVdZYsE/8idUrdUsfUdenfW2NG8QA0BjAbOjSKS+c9kO8kyL4Zl//fy+9mddr0jp7GMWkUV+ejpXY8YMf7Pn/75x9975XvXZZv7gTOe+191/5on1P2uTl/UmBG96lfOHXZ51Z/7qHYUM/v9X50Y693T/OFMArqgv96wS3gbz67qde7l+/wXdKQlnPka3aRF3mSNzGkx+LTBjETO2VIj1NGytq/2CZl4rzUEXXFefOdDalb6pi6Lv17a8woHoDGiK5lz8EdPvMdukZddb2WiedhmQ7mSxzw/gNu6m8Ulbw2Yqn1j/7RR1eFobjtq6z+OZq8Djn3kFVN+n/ZfvfteRJ4eUav99yf9Hormy+Ep5eTf/vkfwZ/8xnH+A7fJQ1pOUcad3x1RZ7kTQxJ3P0YiZnYKUNeN+nrvhF12ORFXVFnv0wdS1tI8QCkAXHb1nSxxCh0QE8MCxOGpxheB8Whs/QxhAtFO8SXz7ij586dV0dhWZPkAsN5ms+e4hVQ7G85qde7/cleb23zhVfprwB/8xnH+A7fJQ1p0yHDMW/yCqOxGB3VdqTHvMNCkO2Q4jjKjLK0uyyOuChQB3G739K/i9SheAAaY3jXz119vPvuOsZWr9zNp69p4jHu0OPiiP1jrOA7fdKzbCXbNRQ29p+kd+h8j1dR9CvEvoipvd6LZ/d6N6185zvufOmd73ge/M1nHOM7fJc0pM2G5G6I/RhdQ5CJjRjTY3HxRcpE2dL5KGGtr6YOqIv8WEQdbuqY9BYoHoDGkDBpjlFDO858jDkMad8Ew1lZYJBGMbzSShp7Gkj6ImJnMg1xPBYa4LnT1nJXzxND+kqJBrr5/tp2r/SBCwv5/dp/+rWbrrn1mofTi9nEXi90krPfOcIkwOazeJzvkoa0+W6H7XpXL5Fntvz6+nYE1npiTctNWeLgAcqYXgyoA+qCPKmbND/OQR1Sl9Rp1+RKaQsrHoDGCLZ35d0/a0exL0Y62ioMX501+WlGILVzQDbECwivfRi6GpeBzzvhwwWlfcLg1VKaZ79xHh6FNWIDqHZI7Ev5hYDXStz9hwUcsxnnfDf027RDj9NjYWTZuJEXuVAO9nxvn1DiBaMfS7sgImUMMbXDkWM9UCfUDXXUf0X32tyQ56lT6pY6Lv07a0wpHoDGABrED37jg8u/9vDXnl24/8LvhX0r2gaU4bAMS6XhDBssJReWduLgU3GvjXyWd3ht1aSZMX/GE10zzeMKtl07BdK3EJ5YOpZlj/uUxH030mNx/gpp8xFYsX8jrizcNVOdWIk5vcDEob+xnJQ55hvrgzTUEXVFncVj1CV1St1Sx/lcGGkLKh6Axgjujg8868AbB3YSbBrLd1/y7iGGrS45Ycmtecf50pOX3nLx/774jl2P2PWutk+kfxHgTv60L5227Lw/PG8lr4zyobpMvmNl2vbpZfBJgaXkl+ywZq/j97qtaykQLgKsbIuuvUJIQ1rOkV+YwkipJk/yJob0WNvfsZaYiT0dmkzZKCNlpcyUPU1L3VBH1BV1lr4i4xh16xOI3mLFA9AYx4S7Qz986Mrp819bnhw01Pu/b/+brlp+1f2Lj1n8nfwiwHt/7rjP/7Pzb06XNo9pD/vIYSu/+fQ3f3bwOQevYIfAdFIfd+kf+N0PLP/av37t6abRvSe/SHABuPKfrrwD+aq4fJc0pOUc6R1/6NBu8iJP8iaG/OJErMRM7GlMoIyUlTJT9hFpmzqirqiz0r+b1HsbBCC9utUmFgMMa2ctnPF4f5QU29km/RX0B7RzSEJnc3xdxTE2a2Ji3fx95t8X+yvicF3y2+PYPW479uJj/2Heknnfy/NniO4Rv3rEt8HfeaykIS3n6M+Mb84d+1XIk7zjhlHxtVYaa9rp3a6HFfKhrJR5U6+iXDhRbyPFA5D6eJ9PYzpn9+F3/Cn6CDjGqKN82GpcpZfO6YEFE8eP20D/wH6n77c6ruIbj/E66b2fee8/fuqvPnUbO/il5+NV0rl/cO6/IJ2ACL5LGtKmr83iqrrkRZ7pKLKwKCJDddtVdwfK3JQljKTiWLaSMKgLjuVDg6W3geIBSAF33oxuojGNo67iMV7tcEceRmnNmbY2my8RVtyds3h4Xaz0AsLIJ14zXf/w9c/ly4bQ+B//G8cPXfRXF92eX0DIe9HBi76LfNMnvksa0ub9LuRBXuHVVjIiLHS6s/5VE2O+L0gYojxneJRVmAyZDUOmLsLmVE3dxCcx6W2ieABSeIKYv3T+/dxpt0uv9xvtsEpv0wDPWDDj8VmLZv0wHxXFMUYlxX3R02Oh452Vdpu79/xJIqal8c5fC9Fox9FPeR9IO3R4bb7abswvjDAbv9XGPL+4H3qINUtLmSgbZQwrBCd9MmE14qZOqBvqqGsHRamQ4gFIr+576r43X7fmunUHnX3QqjBnIxmqy+ugoz919FDXqyvuyJl81+7cN7DfetibY+bkn7QXpRHLotBok7ZrP3Xu9pk5jq4lRsKEQNJ2LDFCXiHP4WXZ002vQnzEStr8aSK+yqKslLmfrq0P6oY6oq5K/15Sq3gA0qs7HrjjfSwuuMsRu9ydDovljv24y44b+r21v7dxz+P3vD1vsFn19tK/ufRO9idnDar0GA0yw3BZkp0tY/M8GWLLkFlGQuWLENLwz99n/v3Inxb4LmlImw/TBXmRJ3nnFzxiJFZiJvb0GGWjjJSVMqevzqgT6oY6oq5K/15Sq3gAUn8/jK4RRtvtvN2je5+49635Uh1xmO9vLfut77PkSJ5u0cGL7r3uweuePu2Lpy0bsfFT8xRw3OXHDX39B19/YfExi0ekZZTUpX976V3g7/w4aUjLOfLhxeRFnuRNDHlaYiXmrmG6lJGyUuZfpo6kQooHIL1ucYvcrldJfH7iVScu466+q9HlSeDkz528rKuxpqH+lY//ygp0LVRIGtJyjvwYeZEneXc9oRBr3IK2dP1Jb1DxAKQtpt0+dpN37JtbJj0uK/J60rZb4boEu0a74gFIkupUPABJUp2KByBJqlPxACRJdSoegCSpTsUDkCTVqXgAkqQ6FQ9AklSn4gFIkupUPABJUp2KByBJqlPxACRJdSoegCSpTsUDkCTVqXgAkqQ6FQ9AklSn4gFIkupUPABJUp2KByBJqlPxACRJdSoegCSpTsUDkCTVqXgAkqQ6FQ9AklSn4gFIkupUPABJUp2KByBJqlPxACRJdSoegCSpTsUDkCTVqXgAkqQ6FQ9AklSn4gFIkupUPABJUp2KByBJqlPxACRJdSoegCSpTsUDkCTVqXgAkqQ6FQ9AklSn4gFIkupUPABJUp2KByBJqlPxACRJdSoegCSpTsUDkCTVqXgAkqQ6FQ9AklSn4gFIkupUPABJUp2KByBJqlPxACRJdSoegCSpTsUDkCTVqXgAkqQ6FQ9AklSn4gFIkupUPABJUp2KByBJqlPxACRJdSoegCSpTsUDkCTVqXgAkqQ6FQ9AklSn4gFIkupUPABJUp2KByBJqlPxACRJdSoegCSpTsUDkCTVqXgAkqQ6FQ9AklSn4gFIkupUPABJUp2KByBJqlPxACRJdSoegCSpTsUDkCTVqXgAkqQ6FQ9AklSn4gFIkupUPABJUp2KByBJqlPxACRJdSoegCSpTsUDkCTVqXgAkqQ6FQ9AklSn4gFIkupUPABJUp2KByBJqlPxACRJdSoegCSpTsUDkCTVqXgAkqQ6FQ9AklSn4gFIkupUPABJUp2KByBJqlPxACRJdSoegCSpTsUDkCTVqXgAkqQ6FQ9AklSn4gFIkupUPABJUp2KByBJqlPxACRJdSoegCSpTsUDkCTVqXgAkqQ6FQ9AklSn4gFIkupUPABJUp2KByBJqlPxACRJdSoegCSpTsUDkCTVqXgAkqQ6FQ9AklSn4gFIkupUPABJUp2KByBJqlPxACRJdSoegCSpTsUDkCTVqXgAkqQ6FQ9AklSn4gFIkupUPABJUp2KByBJqlPxACRJdSoegCSpTsUDkCTVqXgAkqQ6FQ9AklSn4gFIkupUPABJUp2KByBJqlPxACRJdSoegCSpTsUDkCTVqXgAkqQ6FQ9AklSn4gFIkupUPABJUp2KByBJqlPxACRJdSoegCSpTsUDkCTVqXgAkqQ6FQ9AklSn4gFIkupUPABJUp2KByBJqlPxACRJFfr/ld6ZO0k0dZYAAAAASUVORK5CYII=' style='width:400.0px;height:400.0px;' /><div style='position: absolute; top:0; left:0; padding:1px 3px; background: #777; color:#fff; font-size: 90%; font-family:sans-serif; '>initial snapshot</div></div>"
      ],
      "text/plain": [
       "<jupyter_rfb._utils.Snapshot object>"
      ]
     },
     "metadata": {},
     "output_type": "display_data"
    },
    {
     "data": {
      "application/vnd.jupyter.widget-view+json": {
       "model_id": "e43d5eef23ea4e63ad9dfafff18841c9",
       "version_major": 2,
       "version_minor": 0
      },
      "text/plain": [
       "CanvasBackend(css_height='400px', css_width='400px')"
      ]
     },
     "execution_count": 6,
     "metadata": {},
     "output_type": "execute_result"
    }
   ],
   "source": [
    "# An isovalue can be used to generate a domain from a real-space field data like orbitals\n",
    "psi = KSO(scf)\n",
    "mask = domain_isovalue(psi[0, :, 0], 1e-2)\n",
    "view_grid(atoms.r[mask], atoms.X)\n",
    "\n",
    "# The same can be done for the density\n",
    "# mask = domain_isovalue(atoms.n, 1e-3)\n",
    "# view_grid(atoms.r[mask], atoms.X)"
   ]
  },
  {
   "cell_type": "code",
   "execution_count": 7,
   "id": "96e95e9f",
   "metadata": {},
   "outputs": [],
   "source": [
    "# Truncated densities can be used to calculate, e.g., SIC energies\n",
    "# Calculate the single-electron densities from Kohn-Sham orbitals first\n",
    "ni = get_n_single(atoms, atoms.J(psi))"
   ]
  },
  {
   "cell_type": "code",
   "execution_count": 8,
   "id": "cb376db5",
   "metadata": {},
   "outputs": [
    {
     "name": "stdout",
     "output_type": "stream",
     "text": [
      "Esic(untruncated) = -19.400017131 Eh\n",
      "Time(untruncated) =  0.068777 s\n",
      "Esic( truncated ) = -19.307314306 Eh\n",
      "Time( truncated ) =  0.040755 s\n"
     ]
    }
   ],
   "source": [
    "# Calculate the SIC energy for untruncated densities\n",
    "start = timeit.default_timer()\n",
    "esic = get_Esic(scf, scf.W, ni)\n",
    "end = timeit.default_timer()\n",
    "print(f'Esic(untruncated) = {esic:.9f} Eh\\nTime(untruncated) =  {end - start:.6f} s')\n",
    "\n",
    "# Calculate the SIC energy for truncated densities\n",
    "# One can notice a small energy deviation, but a faster calculation time\n",
    "mask = domain_isovalue(ni, 1e-4)\n",
    "ni_trunc = truncate(ni, mask)\n",
    "start = timeit.default_timer()\n",
    "esic_trunc = get_Esic(scf, scf.W, ni_trunc)\n",
    "end = timeit.default_timer()\n",
    "print(f'Esic( truncated ) = {esic_trunc:.9f} Eh\\nTime( truncated ) =  {end - start:.6f} s')"
   ]
  },
  {
   "cell_type": "code",
   "execution_count": 9,
   "id": "90015822",
   "metadata": {},
   "outputs": [
    {
     "name": "stdout",
     "output_type": "stream",
     "text": [
      "True\n"
     ]
    }
   ],
   "source": [
    "# The truncated SIC energy will converge for smaller isovalues to the untruncated value\n",
    "mask = domain_isovalue(ni, 0)\n",
    "ni_trunc = truncate(ni, mask)\n",
    "esic_trunc = get_Esic(scf, scf.W, ni_trunc)\n",
    "print(esic == esic_trunc)"
   ]
  }
 ],
 "metadata": {
  "kernelspec": {
   "display_name": "Python 3 (ipykernel)",
   "language": "python",
   "name": "python3"
  },
  "language_info": {
   "codemirror_mode": {
    "name": "ipython",
    "version": 3
   },
   "file_extension": ".py",
   "mimetype": "text/x-python",
   "name": "python",
   "nbconvert_exporter": "python",
   "pygments_lexer": "ipython3",
   "version": "3.9.13"
  }
 },
 "nbformat": 4,
 "nbformat_minor": 5
}
