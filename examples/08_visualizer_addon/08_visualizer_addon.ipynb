{
 "cells": [
  {
   "cell_type": "markdown",
   "id": "aa90814d",
   "metadata": {},
   "source": [
    "# Visualization"
   ]
  },
  {
   "cell_type": "code",
   "execution_count": 1,
   "id": "13b6fb7e",
   "metadata": {},
   "outputs": [
    {
     "data": {
      "application/vnd.jupyter.widget-view+json": {
       "model_id": "76396204281544b1aadf562f8eb84e76",
       "version_major": 2,
       "version_minor": 0
      },
      "text/plain": []
     },
     "metadata": {},
     "output_type": "display_data"
    }
   ],
   "source": [
    "from eminus import Atoms, read_xyz, SCF, write_cube, write_xyz\n",
    "from eminus.addons import get_fods, view_grid, view_mol;"
   ]
  },
  {
   "cell_type": "code",
   "execution_count": 2,
   "id": "4aa79c38",
   "metadata": {},
   "outputs": [
    {
     "data": {
      "application/vnd.jupyter.widget-view+json": {
       "model_id": "170bc27a318d4efd9cf40b14989a2682",
       "version_major": 2,
       "version_minor": 0
      },
      "text/plain": [
       "NGLWidget()"
      ]
     },
     "metadata": {},
     "output_type": "display_data"
    }
   ],
   "source": [
    "# View the initial xyz file\n",
    "mol = view_mol('CH4.xyz')\n",
    "mol"
   ]
  },
  {
   "cell_type": "code",
   "execution_count": 3,
   "id": "64b432af",
   "metadata": {},
   "outputs": [
    {
     "data": {
      "application/vnd.jupyter.widget-view+json": {
       "model_id": "907be050b98f4326b3efd3a30c375b49",
       "version_major": 2,
       "version_minor": 0
      },
      "text/plain": [
       "Image(value=b'', width='400px')"
      ]
     },
     "metadata": {},
     "output_type": "display_data"
    }
   ],
   "source": [
    "# Render the view as an image, e.g., to download it\n",
    "# See the options here: https://nglviewer.org/nglview/latest/api.html#nglview.NGLWidget.render_image\n",
    "mol_img = mol.render_image()\n",
    "mol_img.width = '400px'\n",
    "mol_img"
   ]
  },
  {
   "cell_type": "code",
   "execution_count": 4,
   "id": "df9c9c4c",
   "metadata": {},
   "outputs": [],
   "source": [
    "# Create the Atoms object\n",
    "atoms = Atoms(*read_xyz('CH4.xyz'), s=50, center=True)"
   ]
  },
  {
   "cell_type": "code",
   "execution_count": 5,
   "id": "ddcc7001",
   "metadata": {},
   "outputs": [],
   "source": [
    "# The calculations and writing steps have already been done, uncomment them if you want to do them for yourself\n",
    "\n",
    "# Do the DFT calculation\n",
    "# scf = SCF(atoms)\n",
    "# scf.run();\n",
    "\n",
    "# Calculate FODs and write them to a xyz file\n",
    "# fods = get_fods(atoms)\n",
    "# write_xyz(atoms, 'CH4_fods.xyz', fods);\n",
    "\n",
    "# Write the density to a cube file\n",
    "# write_cube(scf, scf.n, 'CH4_density.cube');"
   ]
  },
  {
   "cell_type": "code",
   "execution_count": 6,
   "id": "8b5f21fd",
   "metadata": {},
   "outputs": [
    {
     "data": {
      "application/vnd.jupyter.widget-view+json": {
       "model_id": "8aac74d9ea48492bba12f6500fcdf121",
       "version_major": 2,
       "version_minor": 0
      },
      "text/plain": [
       "ThemeManager()"
      ]
     },
     "metadata": {},
     "output_type": "display_data"
    },
    {
     "data": {
      "application/vnd.jupyter.widget-view+json": {
       "model_id": "0045ab28174b4e05be81e9cbe9609734",
       "version_major": 2,
       "version_minor": 0
      },
      "text/plain": [
       "NGLWidget(gui_style='ngl')"
      ]
     },
     "metadata": {},
     "output_type": "display_data"
    }
   ],
   "source": [
    "# View molecule with FODs with the GUI enabled\n",
    "fods = view_mol('CH4_fods.xyz', gui=True)\n",
    "fods"
   ]
  },
  {
   "cell_type": "code",
   "execution_count": 7,
   "id": "980e5726",
   "metadata": {},
   "outputs": [
    {
     "data": {
      "application/vnd.jupyter.widget-view+json": {
       "model_id": "676f0c6d23c246eaac51ecb9c0b19ac7",
       "version_major": 2,
       "version_minor": 0
      },
      "text/plain": [
       "NGLWidget()"
      ]
     },
     "metadata": {},
     "output_type": "display_data"
    }
   ],
   "source": [
    "# Display the cube file\n",
    "cube = view_mol('CH4_density.cube')\n",
    "cube"
   ]
  },
  {
   "cell_type": "code",
   "execution_count": 8,
   "id": "ba70a0a7",
   "metadata": {},
   "outputs": [
    {
     "data": {
      "application/vnd.jupyter.widget-view+json": {
       "model_id": "281143cce0e741669a7fa90f8c7a197e",
       "version_major": 2,
       "version_minor": 0
      },
      "text/plain": [
       "RFBOutputContext()"
      ]
     },
     "metadata": {},
     "output_type": "display_data"
    },
    {
     "data": {
      "text/html": [
       "<div class='initial-snapshot-bc1354934df04be1aa14d96db6a08719' style='position:relative;'><img src='data:image/png;base64,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' style='width:400.0px;height:400.0px;' /><div style='position: absolute; top:0; left:0; padding:1px 3px; background: #777; color:#fff; font-size: 90%; font-family:sans-serif; '>initial snapshot</div></div>"
      ],
      "text/plain": [
       "<jupyter_rfb._utils.Snapshot object>"
      ]
     },
     "metadata": {},
     "output_type": "display_data"
    },
    {
     "data": {
      "application/vnd.jupyter.widget-view+json": {
       "model_id": "bc1354934df04be1aa14d96db6a08719",
       "version_major": 2,
       "version_minor": 0
      },
      "text/plain": [
       "CanvasBackend(css_height='400px', css_width='400px')"
      ]
     },
     "execution_count": 8,
     "metadata": {},
     "output_type": "execute_result"
    }
   ],
   "source": [
    "# Use a smaller grid and display it along with the atom positions\n",
    "atoms.s = 10\n",
    "atoms.update()\n",
    "view_grid(atoms.r, atoms.X)"
   ]
  }
 ],
 "metadata": {
  "kernelspec": {
   "display_name": "Python 3 (ipykernel)",
   "language": "python",
   "name": "python3"
  },
  "language_info": {
   "codemirror_mode": {
    "name": "ipython",
    "version": 3
   },
   "file_extension": ".py",
   "mimetype": "text/x-python",
   "name": "python",
   "nbconvert_exporter": "python",
   "pygments_lexer": "ipython3",
   "version": "3.10.4"
  }
 },
 "nbformat": 4,
 "nbformat_minor": 5
}
