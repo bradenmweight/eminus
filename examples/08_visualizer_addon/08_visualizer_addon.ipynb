{
 "cells": [
  {
   "cell_type": "markdown",
   "id": "aa90814d",
   "metadata": {},
   "source": [
    "# Visualization"
   ]
  },
  {
   "cell_type": "code",
   "execution_count": 1,
   "id": "13b6fb7e",
   "metadata": {},
   "outputs": [
    {
     "data": {
      "application/vnd.jupyter.widget-view+json": {
       "model_id": "70606840421a4906adee7b08305efaca",
       "version_major": 2,
       "version_minor": 0
      },
      "text/plain": []
     },
     "metadata": {},
     "output_type": "display_data"
    }
   ],
   "source": [
    "from eminus import Atoms, SCF, read_xyz, write_cube, write_xyz\n",
    "from eminus.addons import get_fods, view_grid, view_mol"
   ]
  },
  {
   "cell_type": "code",
   "execution_count": 2,
   "id": "4aa79c38",
   "metadata": {},
   "outputs": [
    {
     "data": {
      "application/vnd.jupyter.widget-view+json": {
       "model_id": "6b7e681d1b20438ba484b5ee7cd1e001",
       "version_major": 2,
       "version_minor": 0
      },
      "text/plain": [
       "NGLWidget()"
      ]
     },
     "metadata": {},
     "output_type": "display_data"
    }
   ],
   "source": [
    "# View the initial xyz file\n",
    "view_mol('CH4.xyz')"
   ]
  },
  {
   "cell_type": "code",
   "execution_count": 3,
   "id": "df9c9c4c",
   "metadata": {},
   "outputs": [
    {
     "name": "stdout",
     "output_type": "stream",
     "text": [
      "--- System informations ---\n",
      "Atom\tCharge\tPosition\n",
      "C\t4\t  10.00000    10.00000    10.00000\n",
      "H\t1\t  11.18599    11.18599    11.18599\n",
      "H\t1\t  11.18599     8.81401     8.81401\n",
      "H\t1\t   8.81401    11.18599     8.81401\n",
      "H\t1\t   8.81401     8.81401    11.18599\n",
      "\n",
      "--- SCF data ---\n",
      "Start preconditioned conjugate-gradient minimization...\n",
      "Iteration: 1  \tEtot: +33.1745885\n",
      "Iteration: 2  \tEtot: +10.1640742\n",
      "Iteration: 3  \tEtot: +3.3858367\n",
      "Iteration: 4  \tEtot: -1.6865167\n",
      "Iteration: 5  \tEtot: -4.5672025\n",
      "Iteration: 6  \tEtot: -6.3973299\n",
      "Iteration: 7  \tEtot: -7.3601207\n",
      "Iteration: 8  \tEtot: -7.8187432\n",
      "Iteration: 9  \tEtot: -7.9323068\n",
      "Iteration: 10  \tEtot: -7.9500525\n",
      "Iteration: 11  \tEtot: -7.9528711\n",
      "Iteration: 12  \tEtot: -7.9533477\n",
      "Iteration: 13  \tEtot: -7.9534255\n",
      "Iteration: 14  \tEtot: -7.9534377\n",
      "Iteration: 15  \tEtot: -7.9534397\n",
      "Iteration: 16  \tEtot: -7.9534401\n",
      "Iteration: 17  \tEtot: -7.9534401\n",
      "SCF converged after 17 iterations.\n",
      "\n",
      "--- SCF results ---\n",
      "Starting guess: gaussian\n",
      "Total SCF time: 13.44559s\n",
      "\n",
      "--- Energy data ---\n",
      "Total energy: -7.953440116 Eh\n"
     ]
    }
   ],
   "source": [
    "# Do the DFT calculation\n",
    "atoms = Atoms(*read_xyz('CH4.xyz'), center=True)\n",
    "SCF(atoms);"
   ]
  },
  {
   "cell_type": "code",
   "execution_count": 4,
   "id": "ddcc7001",
   "metadata": {},
   "outputs": [],
   "source": [
    "# Calculate FODs and write them to a xyz file\n",
    "fods = get_fods(atoms)\n",
    "write_xyz(atoms, 'CH4_fods.xyz', fods)"
   ]
  },
  {
   "cell_type": "code",
   "execution_count": 5,
   "id": "8b5f21fd",
   "metadata": {},
   "outputs": [
    {
     "data": {
      "application/vnd.jupyter.widget-view+json": {
       "model_id": "4d9bc31ebaca43f697cb6f9a1fca966d",
       "version_major": 2,
       "version_minor": 0
      },
      "text/plain": [
       "NGLWidget()"
      ]
     },
     "metadata": {},
     "output_type": "display_data"
    }
   ],
   "source": [
    "# View molecule with FODs\n",
    "view_mol('CH4_fods.xyz')"
   ]
  },
  {
   "cell_type": "code",
   "execution_count": 6,
   "id": "c5cfa348",
   "metadata": {},
   "outputs": [],
   "source": [
    "# Write the density to a cube file\n",
    "write_cube(atoms, atoms.n, 'CH4_density.cube')"
   ]
  },
  {
   "cell_type": "code",
   "execution_count": 7,
   "id": "980e5726",
   "metadata": {},
   "outputs": [
    {
     "data": {
      "application/vnd.jupyter.widget-view+json": {
       "model_id": "1d792fc19a40437b8d56b8fe5816988b",
       "version_major": 2,
       "version_minor": 0
      },
      "text/plain": [
       "NGLWidget()"
      ]
     },
     "metadata": {},
     "output_type": "display_data"
    }
   ],
   "source": [
    "# Display the cube file\n",
    "view_mol('CH4_density.cube')"
   ]
  },
  {
   "cell_type": "code",
   "execution_count": 8,
   "id": "ba70a0a7",
   "metadata": {},
   "outputs": [
    {
     "data": {
      "application/vnd.jupyter.widget-view+json": {
       "model_id": "2b2fb9a1fdab4b2ab1be11f84e09d716",
       "version_major": 2,
       "version_minor": 0
      },
      "text/plain": [
       "RFBOutputContext()"
      ]
     },
     "metadata": {},
     "output_type": "display_data"
    },
    {
     "data": {
      "text/html": [
       "<div class='initial-snapshot-2cf4e8afece04ed1adfb220ea887daee' style='position:relative;'><img src='data:image/png;base64,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' style='width:400.0px;height:400.0px;' /><div style='position: absolute; top:0; left:0; padding:1px 3px; background: #777; color:#fff; font-size: 90%; font-family:sans-serif; '>initial snapshot</div></div>"
      ],
      "text/plain": [
       "<jupyter_rfb._utils.Snapshot object>"
      ]
     },
     "metadata": {},
     "output_type": "display_data"
    },
    {
     "data": {
      "application/vnd.jupyter.widget-view+json": {
       "model_id": "2cf4e8afece04ed1adfb220ea887daee",
       "version_major": 2,
       "version_minor": 0
      },
      "text/plain": [
       "CanvasBackend(css_height='400px', css_width='400px')"
      ]
     },
     "execution_count": 8,
     "metadata": {},
     "output_type": "execute_result"
    }
   ],
   "source": [
    "# Use a smaller grid and display it along with the atom positions\n",
    "atoms.s = 10\n",
    "atoms.update()\n",
    "view_grid(atoms.r, atoms.X)"
   ]
  }
 ],
 "metadata": {
  "kernelspec": {
   "display_name": "Python 3 (ipykernel)",
   "language": "python",
   "name": "python3"
  },
  "language_info": {
   "codemirror_mode": {
    "name": "ipython",
    "version": 3
   },
   "file_extension": ".py",
   "mimetype": "text/x-python",
   "name": "python",
   "nbconvert_exporter": "python",
   "pygments_lexer": "ipython3",
   "version": "3.8.10"
  }
 },
 "nbformat": 4,
 "nbformat_minor": 5
}
