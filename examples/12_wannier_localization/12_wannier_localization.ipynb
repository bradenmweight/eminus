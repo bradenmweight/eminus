{
 "cells": [
  {
   "cell_type": "code",
   "execution_count": 1,
   "id": "3cd6e4e0",
   "metadata": {},
   "outputs": [],
   "source": [
    "import glob\n",
    "\n",
    "import numpy as np\n",
    "\n",
    "from eminus import Atoms, read, SCF\n",
    "from eminus.extras import view\n",
    "from eminus.localizer import get_wannier, wannier_cost\n",
    "from eminus.orbitals import FLO, WO\n",
    "from eminus.tools import orbital_center"
   ]
  },
  {
   "cell_type": "code",
   "execution_count": 2,
   "id": "56855ec6",
   "metadata": {},
   "outputs": [
    {
     "name": "stdout",
     "output_type": "stream",
     "text": [
      "XYZ file comment: \"Experimental geometry from CCCBDB: https://cccbdb.nist.gov/exp2x.asp?casno=74828&charge=0\"\n",
      "Start auto minimization...\n",
      "Method  Iteration  Etot [Eh]    dEtot [Eh]   |Gradient|   \n",
      "pccg           1   +25.949780   \n",
      "pccg           2   +7.616602    +1.8333e+01  [+4.53e+04]  \n",
      "pccg           3   -0.323833    +7.9404e+00  [+3.05e+03]  \n",
      "pccg           4   -4.387684    +4.0639e+00  [+4.99e+02]  \n",
      "pccg           5   -6.286317    +1.8986e+00  [+9.18e+01]  \n",
      "pccg           6   -6.933588    +6.4727e-01  [+1.47e+01]  \n",
      "pccg           7   -7.302068    +3.6848e-01  [+4.84e+00]  \n",
      "pccg           8   -7.567839    +2.6577e-01  [+5.72e+00]  \n",
      "pccg           9   -7.789691    +2.2185e-01  [+2.44e+00]  \n",
      "pccg          10   -7.858153    +6.8461e-02  [+4.57e-01]  \n",
      "pccg          11   -7.875782    +1.7629e-02  [+1.19e-01]  \n",
      "pccg          12   -7.879610    +3.8278e-03  [+2.71e-02]  \n",
      "pccg          13   -7.880573    +9.6318e-04  [+6.99e-03]  \n",
      "pccg          14   -7.880808    +2.3452e-04  [+1.72e-03]  \n",
      "pccg          15   -7.880862    +5.4375e-05  [+3.80e-04]  \n",
      "pccg          16   -7.880875    +1.2868e-05  [+1.02e-04]  \n",
      "pccg          17   -7.880877    +2.4027e-06  [+1.82e-05]  \n",
      "pccg          18   -7.880878    +5.6802e-07  [+3.95e-06]  \n",
      "pccg          19   -7.880878    +1.5428e-07  [+1.10e-06]  \n",
      "pccg          20   -7.880878    +4.1299e-08  [+2.93e-07]  \n",
      "SCF converged after 20 iterations.\n",
      "Total SCF time: 8.01257 s\n",
      "Etot = -7.880877997 Eh\n"
     ]
    }
   ],
   "source": [
    "# Run an initial calculation for methane\n",
    "atoms = Atoms(*read('CH4.xyz'), ecut=15, center=True)\n",
    "scf = SCF(atoms)\n",
    "scf.run();"
   ]
  },
  {
   "cell_type": "code",
   "execution_count": 3,
   "id": "020cf835",
   "metadata": {},
   "outputs": [
    {
     "name": "stderr",
     "output_type": "stream",
     "text": [
      "/home/wangenau/.local/lib/python3.10/site-packages/pyscf/dft/libxc.py:772: UserWarning: Since PySCF-2.3, B3LYP (and B3P86) are changed to the VWN-RPA variant, the same to the B3LYP functional in Gaussian and ORCA (issue 1480). To restore the VWN5 definition, you can put the setting \"B3LYP_WITH_VWN5 = True\" in pyscf_conf.py\n",
      "  warnings.warn('Since PySCF-2.3, B3LYP (and B3P86) are changed to the VWN-RPA variant, '\n"
     ]
    }
   ],
   "source": [
    "# Calculate the FLOs to have pre-localized orbitals\n",
    "flo = FLO(scf)"
   ]
  },
  {
   "cell_type": "code",
   "execution_count": 4,
   "id": "47504e58",
   "metadata": {},
   "outputs": [
    {
     "name": "stdout",
     "output_type": "stream",
     "text": [
      "Wannier localizer converged after 473 iterations.\n"
     ]
    }
   ],
   "source": [
    "# Do the Wannier localization\n",
    "# The resulting orbitals are equivalent to Foster-Boys orbitals, but with periodic boundary conditions\n",
    "wannier = get_wannier(atoms, flo)"
   ]
  },
  {
   "cell_type": "code",
   "execution_count": 5,
   "id": "8f27bb24",
   "metadata": {},
   "outputs": [
    {
     "name": "stdout",
     "output_type": "stream",
     "text": [
      "Costs:\n",
      "[4.09999183 3.86810969 4.35884166 3.36608968]\n",
      "\n",
      "FLO spreads = [[4.09999183 3.86810969 4.35884166 3.36608968]]\n",
      "FLO spread = 15.693032868299042\n"
     ]
    }
   ],
   "source": [
    "# Compare the initial FLO spreads to the Wannier spreads\n",
    "flo_spreads = wannier_cost(atoms, flo)\n",
    "print(f'\\nFLO spreads = {flo_spreads}')\n",
    "print(f'FLO spread = {np.sum(flo_spreads)}')"
   ]
  },
  {
   "cell_type": "code",
   "execution_count": 6,
   "id": "a0632df3",
   "metadata": {},
   "outputs": [
    {
     "name": "stdout",
     "output_type": "stream",
     "text": [
      "Costs:\n",
      "[2.68198219 2.68212498 2.68202201 2.6821521 ]\n",
      "Wannier spreads = [[2.68198219 2.68212498 2.68202201 2.6821521 ]]\n",
      "Wannier spread = 10.728281273808477\n"
     ]
    }
   ],
   "source": [
    "# The Wannier orbitals are a bit more localized, and all orbitals are evenly localized\n",
    "# (Note that the FLO routine just uses a crude PyCOM guess and does not optimize the FODs.)\n",
    "wannier_spreads = wannier_cost(atoms, wannier)\n",
    "print(f'Wannier spreads = {wannier_spreads}')\n",
    "print(f'Wannier spread = {np.sum(wannier_spreads)}')"
   ]
  },
  {
   "cell_type": "code",
   "execution_count": null,
   "id": "58a92a77",
   "metadata": {},
   "outputs": [
    {
     "name": "stdout",
     "output_type": "stream",
     "text": [
      "Wannier localizer converged after 452 iterations.\n",
      "Write CH4_WO_0.cube...\n",
      "Write CH4_WO_1.cube...\n"
     ]
    }
   ],
   "source": [
    "# All of the above can be done with one function call, also save the orbitals\n",
    "WO(scf, write_cubes=True);"
   ]
  },
  {
   "cell_type": "code",
   "execution_count": null,
   "id": "f36fbd6b",
   "metadata": {},
   "outputs": [],
   "source": [
    "# Display the orbitals from the cube files\n",
    "view(glob.glob('*.cube'));"
   ]
  },
  {
   "cell_type": "code",
   "execution_count": null,
   "id": "e9bb8078",
   "metadata": {},
   "outputs": [],
   "source": [
    "# One could calculate the center of masses from the Wannier orbitals...\n",
    "coms = orbital_center(atoms, wannier)\n",
    "view(atoms, coms)"
   ]
  },
  {
   "cell_type": "code",
   "execution_count": null,
   "id": "ba268f74",
   "metadata": {},
   "outputs": [],
   "source": [
    "# ...and use them as an initial guess for a new set of FLOs\n",
    "flo = FLO(scf, fods=coms)\n",
    "flo_spreads = wannier_cost(atoms, flo)\n",
    "print(f'New FLO spreads = {flo_spreads}')\n",
    "print(f'New FLO spread = {np.sum(flo_spreads)}')"
   ]
  },
  {
   "cell_type": "code",
   "execution_count": null,
   "id": "5e78294c",
   "metadata": {},
   "outputs": [],
   "source": []
  }
 ],
 "metadata": {
  "kernelspec": {
   "display_name": "Python 3 (ipykernel)",
   "language": "python",
   "name": "python3"
  },
  "language_info": {
   "codemirror_mode": {
    "name": "ipython",
    "version": 3
   },
   "file_extension": ".py",
   "mimetype": "text/x-python",
   "name": "python",
   "nbconvert_exporter": "python",
   "pygments_lexer": "ipython3",
   "version": "3.10.12"
  },
  "vscode": {
   "interpreter": {
    "hash": "916dbcbb3f70747c44a77c7bcd40155683ae19c65e1c03b4aa3499c5328201f1"
   }
  },
  "widgets": {
   "application/vnd.jupyter.widget-state+json": {
    "state": {
     "128a6250e40b481cabf0c6583e169152": {
      "model_module": "@jupyter-widgets/controls",
      "model_module_version": "2.0.0",
      "model_name": "ButtonModel",
      "state": {
       "icon": "compress",
       "layout": "IPY_MODEL_2dab4c1803474f679f88b1a5121ab8d6",
       "style": "IPY_MODEL_ab259944960a4155bde43326f4fb956d",
       "tooltip": null
      }
     },
     "2dab4c1803474f679f88b1a5121ab8d6": {
      "model_module": "@jupyter-widgets/base",
      "model_module_version": "2.0.0",
      "model_name": "LayoutModel",
      "state": {
       "width": "34px"
      }
     },
     "2ddd6279681e4cada4ff6a277d5c5745": {
      "model_module": "@jupyter-widgets/base",
      "model_module_version": "2.0.0",
      "model_name": "LayoutModel",
      "state": {}
     },
     "5cc24530eeb54f459f02879a5b0e1e7f": {
      "model_module": "@jupyter-widgets/base",
      "model_module_version": "2.0.0",
      "model_name": "LayoutModel",
      "state": {}
     },
     "62f542d04aad43e3b16452a0170f15c3": {
      "model_module": "@jupyter-widgets/controls",
      "model_module_version": "2.0.0",
      "model_name": "LinkModel",
      "state": {
       "source": [
        "IPY_MODEL_b2a52b906ce14829a2ed0f58106f6ae7",
        "max"
       ],
       "target": [
        "IPY_MODEL_738c9957fd514383ba5983c0850a9a86",
        "max_frame"
       ]
      }
     },
     "67a59198bed8461bb1cc9ad328b6d094": {
      "model_module": "@jupyter-widgets/controls",
      "model_module_version": "2.0.0",
      "model_name": "HBoxModel",
      "state": {
       "children": [
        "IPY_MODEL_b2a52b906ce14829a2ed0f58106f6ae7",
        "IPY_MODEL_b2528e96aef847a6b5ef36c5d7e267b4"
       ],
       "layout": "IPY_MODEL_c2f0c7bd77b94d7a9290aefab2f136f0"
      }
     },
     "69564eb04f6b42dc87eaf4f68b02b09f": {
      "model_module": "@jupyter-widgets/controls",
      "model_module_version": "2.0.0",
      "model_name": "LinkModel",
      "state": {
       "source": [
        "IPY_MODEL_b2a52b906ce14829a2ed0f58106f6ae7",
        "value"
       ],
       "target": [
        "IPY_MODEL_738c9957fd514383ba5983c0850a9a86",
        "frame"
       ]
      }
     },
     "725b2385e0b745669e7c29f8ce6793c7": {
      "model_module": "@jupyter-widgets/base",
      "model_module_version": "2.0.0",
      "model_name": "LayoutModel",
      "state": {}
     },
     "738c9957fd514383ba5983c0850a9a86": {
      "model_module": "nglview-js-widgets",
      "model_module_version": "3.0.6",
      "model_name": "NGLModel",
      "state": {
       "_camera_orientation": [
        13.473037859464075,
        0,
        0,
        0,
        0,
        13.473037859464075,
        0,
        0,
        0,
        0,
        13.473037859464075,
        0,
        -5.291500091552734,
        -5.291500091552734,
        -5.291500091552734,
        1
       ],
       "_camera_str": "orthographic",
       "_gui_theme": null,
       "_ibtn_fullscreen": "IPY_MODEL_128a6250e40b481cabf0c6583e169152",
       "_igui": null,
       "_iplayer": "IPY_MODEL_67a59198bed8461bb1cc9ad328b6d094",
       "_ngl_color_dict": {},
       "_ngl_coordinate_resource": {},
       "_ngl_full_stage_parameters": {
        "ambientColor": 14540253,
        "ambientIntensity": 0.2,
        "backgroundColor": "white",
        "cameraEyeSep": 0.3,
        "cameraFov": 40,
        "cameraType": "perspective",
        "clipDist": 10,
        "clipFar": 100,
        "clipMode": "scene",
        "clipNear": 0,
        "clipScale": "relative",
        "fogFar": 100,
        "fogNear": 50,
        "hoverTimeout": 0,
        "impostor": true,
        "lightColor": 14540253,
        "lightIntensity": 1,
        "mousePreset": "default",
        "panSpeed": 1,
        "quality": "medium",
        "rotateSpeed": 2,
        "sampleLevel": 0,
        "tooltip": true,
        "workerDefault": true,
        "zoomSpeed": 1.2
       },
       "_ngl_msg_archive": [
        {
         "args": [
          "400px",
          "400px"
         ],
         "kwargs": {},
         "methodName": "setSize",
         "reconstruc_color_scheme": false,
         "target": "Widget",
         "type": "call_method"
        },
        {
         "args": [
          {
           "binary": false,
           "data": "CRYST1   10.584   10.584   10.584  90.00  90.00  90.00 P 1        \nMODEL 1\nATOM      1    C MOL     1       5.292   5.292   5.292  1.00  0.00           C\nATOM      2    H MOL     1       5.919   5.919   5.919  1.00  0.00           H\nATOM      3    H MOL     1       5.919   4.664   4.664  1.00  0.00           H\nATOM      4    H MOL     1       4.664   5.919   4.664  1.00  0.00           H\nATOM      5    H MOL     1       4.664   4.664   5.919  1.00  0.00           H\nENDMDL\n",
           "type": "blob"
          }
         ],
         "kwargs": {
          "defaultRepresentation": false,
          "ext": "pdb"
         },
         "methodName": "loadFile",
         "reconstruc_color_scheme": false,
         "target": "Stage",
         "type": "call_method"
        },
        {
         "args": [],
         "component_index": 0,
         "kwargs": {},
         "methodName": "removeAllRepresentations",
         "reconstruc_color_scheme": false,
         "target": "compList",
         "type": "call_method"
        },
        {
         "args": [
          "ball+stick"
         ],
         "component_index": 0,
         "kwargs": {
          "sele": "all"
         },
         "methodName": "addRepresentation",
         "reconstruc_color_scheme": false,
         "target": "compList",
         "type": "call_method"
        },
        {
         "args": [
          "unitcell"
         ],
         "component_index": 0,
         "kwargs": {
          "sele": "all"
         },
         "methodName": "addRepresentation",
         "reconstruc_color_scheme": false,
         "target": "compList",
         "type": "call_method"
        },
        {
         "args": [
          {
           "binary": false,
           "data": "CH4_WO_0.cube",
           "type": "path"
          }
         ],
         "kwargs": {
          "defaultRepresentation": false,
          "ext": "cube"
         },
         "methodName": "loadFile",
         "reconstruc_color_scheme": false,
         "target": "Stage",
         "type": "call_method"
        },
        {
         "args": [],
         "component_index": 1,
         "kwargs": {},
         "methodName": "removeAllRepresentations",
         "reconstruc_color_scheme": false,
         "target": "compList",
         "type": "call_method"
        },
        {
         "args": [
          "surface"
         ],
         "component_index": 1,
         "kwargs": {
          "color": "lightgreen",
          "isolevel": -0.01,
          "isolevelType": "value",
          "negateIsolevel": true,
          "opacity": 0.75,
          "sele": "all",
          "side": "front",
          "useWorker": false
         },
         "methodName": "addRepresentation",
         "reconstruc_color_scheme": false,
         "target": "compList",
         "type": "call_method"
        },
        {
         "args": [
          {
           "binary": false,
           "data": "CH4_WO_0.cube",
           "type": "path"
          }
         ],
         "kwargs": {
          "defaultRepresentation": false,
          "ext": "cube"
         },
         "methodName": "loadFile",
         "reconstruc_color_scheme": false,
         "target": "Stage",
         "type": "call_method"
        },
        {
         "args": [],
         "component_index": 2,
         "kwargs": {},
         "methodName": "removeAllRepresentations",
         "reconstruc_color_scheme": false,
         "target": "compList",
         "type": "call_method"
        },
        {
         "args": [
          "surface"
         ],
         "component_index": 2,
         "kwargs": {
          "color": "red",
          "isolevel": 0.01,
          "isolevelType": "value",
          "negateIsolevel": true,
          "opacity": 0.75,
          "sele": "all",
          "side": "front",
          "useWorker": false
         },
         "methodName": "addRepresentation",
         "reconstruc_color_scheme": false,
         "target": "compList",
         "type": "call_method"
        }
       ],
       "_ngl_original_stage_parameters": {
        "ambientColor": 14540253,
        "ambientIntensity": 0.2,
        "backgroundColor": "white",
        "cameraEyeSep": 0.3,
        "cameraFov": 40,
        "cameraType": "perspective",
        "clipDist": 10,
        "clipFar": 100,
        "clipMode": "scene",
        "clipNear": 0,
        "clipScale": "relative",
        "fogFar": 100,
        "fogNear": 50,
        "hoverTimeout": 0,
        "impostor": true,
        "lightColor": 14540253,
        "lightIntensity": 1,
        "mousePreset": "default",
        "panSpeed": 1,
        "quality": "medium",
        "rotateSpeed": 2,
        "sampleLevel": 0,
        "tooltip": true,
        "workerDefault": true,
        "zoomSpeed": 1.2
       },
       "_ngl_repr_dict": {
        "0": {
         "0": {
          "params": {
           "aspectRatio": 2,
           "assembly": "default",
           "bondScale": 0.4,
           "bondSpacing": 1,
           "clipCenter": {
            "x": 0,
            "y": 0,
            "z": 0
           },
           "clipNear": 0,
           "clipRadius": 0,
           "colorMode": "hcl",
           "colorReverse": false,
           "colorScale": "",
           "colorScheme": "element",
           "colorValue": 9474192,
           "cylinderOnly": false,
           "defaultAssembly": "",
           "depthWrite": true,
           "diffuse": 16777215,
           "diffuseInterior": false,
           "disableImpostor": false,
           "disablePicking": false,
           "flatShaded": false,
           "interiorColor": 2236962,
           "interiorDarkening": 0,
           "lazy": false,
           "lineOnly": false,
           "linewidth": 2,
           "matrix": {
            "elements": [
             1,
             0,
             0,
             0,
             0,
             1,
             0,
             0,
             0,
             0,
             1,
             0,
             0,
             0,
             0,
             1
            ]
           },
           "metalness": 0,
           "multipleBond": "off",
           "opacity": 1,
           "openEnded": true,
           "quality": "medium",
           "radialSegments": 10,
           "radiusData": {},
           "radiusScale": 1,
           "radiusSize": 0.15,
           "radiusType": "size",
           "roughness": 0.4,
           "sele": "all",
           "side": "double",
           "sphereDetail": 1,
           "useInteriorColor": true,
           "visible": true,
           "wireframe": false
          },
          "type": "ball+stick"
         },
         "1": {
          "params": {
           "clipCenter": {
            "x": 0,
            "y": 0,
            "z": 0
           },
           "clipNear": 0,
           "clipRadius": 0,
           "colorMode": "hcl",
           "colorReverse": false,
           "colorScale": "",
           "colorScheme": "element",
           "colorValue": "orange",
           "defaultAssembly": "",
           "depthWrite": true,
           "diffuse": 16777215,
           "diffuseInterior": false,
           "disableImpostor": false,
           "disablePicking": false,
           "flatShaded": false,
           "interiorColor": 2236962,
           "interiorDarkening": 0,
           "lazy": false,
           "matrix": {
            "elements": [
             1,
             0,
             0,
             0,
             0,
             1,
             0,
             0,
             0,
             0,
             1,
             0,
             0,
             0,
             0,
             1
            ]
           },
           "metalness": 0,
           "opacity": 1,
           "quality": "medium",
           "radialSegments": 10,
           "radiusData": {},
           "radiusScale": 1,
           "radiusSize": 0.052919997677017605,
           "radiusType": "vdw",
           "roughness": 0.4,
           "sele": "all",
           "side": "double",
           "sphereDetail": 1,
           "useInteriorColor": true,
           "visible": true,
           "wireframe": false
          },
          "type": "unitcell"
         }
        },
        "1": {
         "0": {
          "params": {
           "background": false,
           "boxSize": 0,
           "clipCenter": {
            "x": 0,
            "y": 0,
            "z": 0
           },
           "clipNear": 0,
           "clipRadius": 0,
           "colorMode": "hcl",
           "colorReverse": false,
           "colorScale": "",
           "colorScheme": "uniform",
           "colorValue": 9498256,
           "contour": false,
           "depthWrite": true,
           "diffuse": 16777215,
           "diffuseInterior": false,
           "disablePicking": false,
           "flatShaded": false,
           "interiorColor": 2236962,
           "interiorDarkening": 0,
           "isolevel": -0.01,
           "isolevelScroll": false,
           "isolevelType": "value",
           "lazy": false,
           "matrix": {
            "elements": [
             1,
             0,
             0,
             0,
             0,
             1,
             0,
             0,
             0,
             0,
             1,
             0,
             0,
             0,
             0,
             1
            ]
           },
           "metalness": 0,
           "negateIsolevel": true,
           "opacity": 0.75,
           "opaqueBack": true,
           "quality": "medium",
           "roughness": 0.4,
           "side": "front",
           "smooth": 0,
           "useInteriorColor": false,
           "useWorker": false,
           "visible": true,
           "wireframe": false,
           "wrap": false
          },
          "type": "surface"
         }
        },
        "2": {
         "0": {
          "params": {
           "background": false,
           "boxSize": 0,
           "clipCenter": {
            "x": 0,
            "y": 0,
            "z": 0
           },
           "clipNear": 0,
           "clipRadius": 0,
           "colorMode": "hcl",
           "colorReverse": false,
           "colorScale": "",
           "colorScheme": "uniform",
           "colorValue": 16711680,
           "contour": false,
           "depthWrite": true,
           "diffuse": 16777215,
           "diffuseInterior": false,
           "disablePicking": false,
           "flatShaded": false,
           "interiorColor": 2236962,
           "interiorDarkening": 0,
           "isolevel": 0.01,
           "isolevelScroll": false,
           "isolevelType": "value",
           "lazy": false,
           "matrix": {
            "elements": [
             1,
             0,
             0,
             0,
             0,
             1,
             0,
             0,
             0,
             0,
             1,
             0,
             0,
             0,
             0,
             1
            ]
           },
           "metalness": 0,
           "negateIsolevel": true,
           "opacity": 0.75,
           "opaqueBack": true,
           "quality": "medium",
           "roughness": 0.4,
           "side": "front",
           "smooth": 0,
           "useInteriorColor": false,
           "useWorker": false,
           "visible": true,
           "wireframe": false,
           "wrap": false
          },
          "type": "surface"
         }
        }
       },
       "_ngl_serialize": false,
       "_ngl_version": "2.0.0-dev.39",
       "_ngl_view_id": [
        "AF025458-CC8E-4AEB-96E2-5676FCA1051D",
        "9F706868-C9DF-4A3F-94AE-1F29203C5AF6"
       ],
       "_player_dict": {},
       "_scene_position": {},
       "_scene_rotation": {},
       "_synced_model_ids": [],
       "_synced_repr_model_ids": [],
       "_view_height": "",
       "_view_width": "",
       "background": "white",
       "frame": 0,
       "gui_style": null,
       "layout": "IPY_MODEL_890863adcb6840c0bc563d82ce98594f",
       "max_frame": 0,
       "n_components": 3,
       "picked": {}
      }
     },
     "73d86cb3e39544c5a10898e0e9d9c800": {
      "model_module": "@jupyter-widgets/controls",
      "model_module_version": "2.0.0",
      "model_name": "SliderStyleModel",
      "state": {
       "description_width": ""
      }
     },
     "785fc738c6f64db1a5028d3816859295": {
      "model_module": "@jupyter-widgets/base",
      "model_module_version": "2.0.0",
      "model_name": "LayoutModel",
      "state": {}
     },
     "890863adcb6840c0bc563d82ce98594f": {
      "model_module": "@jupyter-widgets/base",
      "model_module_version": "2.0.0",
      "model_name": "LayoutModel",
      "state": {}
     },
     "936849d9e773493b8a23a1d2224c5b1b": {
      "model_module": "nglview-js-widgets",
      "model_module_version": "3.0.6",
      "model_name": "ColormakerRegistryModel",
      "state": {
       "_msg_ar": [],
       "_msg_q": [],
       "_ready": true,
       "layout": "IPY_MODEL_785fc738c6f64db1a5028d3816859295"
      }
     },
     "ab259944960a4155bde43326f4fb956d": {
      "model_module": "@jupyter-widgets/controls",
      "model_module_version": "2.0.0",
      "model_name": "ButtonStyleModel",
      "state": {
       "font_family": null,
       "font_size": null,
       "font_style": null,
       "font_variant": null,
       "font_weight": null,
       "text_color": null,
       "text_decoration": null
      }
     },
     "b2528e96aef847a6b5ef36c5d7e267b4": {
      "model_module": "@jupyter-widgets/controls",
      "model_module_version": "2.0.0",
      "model_name": "IntSliderModel",
      "state": {
       "behavior": "drag-tap",
       "layout": "IPY_MODEL_2ddd6279681e4cada4ff6a277d5c5745",
       "max": 0,
       "style": "IPY_MODEL_73d86cb3e39544c5a10898e0e9d9c800"
      }
     },
     "b2a52b906ce14829a2ed0f58106f6ae7": {
      "model_module": "@jupyter-widgets/controls",
      "model_module_version": "2.0.0",
      "model_name": "PlayModel",
      "state": {
       "layout": "IPY_MODEL_725b2385e0b745669e7c29f8ce6793c7",
       "max": 0,
       "style": "IPY_MODEL_eafa7a2f93af4e83a1585c37096a770d"
      }
     },
     "b9e93100003a40f1bcad830ec14ecbf8": {
      "model_module": "@jupyter-widgets/controls",
      "model_module_version": "2.0.0",
      "model_name": "LinkModel",
      "state": {
       "source": [
        "IPY_MODEL_b2a52b906ce14829a2ed0f58106f6ae7",
        "value"
       ],
       "target": [
        "IPY_MODEL_b2528e96aef847a6b5ef36c5d7e267b4",
        "value"
       ]
      }
     },
     "c2f0c7bd77b94d7a9290aefab2f136f0": {
      "model_module": "@jupyter-widgets/base",
      "model_module_version": "2.0.0",
      "model_name": "LayoutModel",
      "state": {}
     },
     "c33f098851e647278469bdf8ef103441": {
      "model_module": "@jupyter-widgets/controls",
      "model_module_version": "2.0.0",
      "model_name": "ImageModel",
      "state": {
       "layout": "IPY_MODEL_5cc24530eeb54f459f02879a5b0e1e7f",
       "width": "900.0"
      }
     },
     "eafa7a2f93af4e83a1585c37096a770d": {
      "model_module": "@jupyter-widgets/controls",
      "model_module_version": "2.0.0",
      "model_name": "DescriptionStyleModel",
      "state": {
       "description_width": ""
      }
     },
     "ed9b4df1fb46448f9a95834a61f2fabd": {
      "model_module": "@jupyter-widgets/controls",
      "model_module_version": "2.0.0",
      "model_name": "LinkModel",
      "state": {
       "source": [
        "IPY_MODEL_b2528e96aef847a6b5ef36c5d7e267b4",
        "max"
       ],
       "target": [
        "IPY_MODEL_738c9957fd514383ba5983c0850a9a86",
        "max_frame"
       ]
      }
     }
    },
    "version_major": 2,
    "version_minor": 0
   }
  }
 },
 "nbformat": 4,
 "nbformat_minor": 5
}
